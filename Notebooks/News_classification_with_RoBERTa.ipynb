{
  "nbformat": 4,
  "nbformat_minor": 0,
  "metadata": {
    "accelerator": "TPU",
    "colab": {
      "name": "News classification with RoBERTa.ipynb",
      "provenance": [],
      "collapsed_sections": [],
      "mount_file_id": "1Z0_pvN3S7EkpkDsfnALpF_TugHEb8Pt7",
      "authorship_tag": "ABX9TyOtn6PBOVa/KE7PJyWZezZ6"
    },
    "kernelspec": {
      "display_name": "Python 3",
      "name": "python3"
    },
    "language_info": {
      "name": "python"
    },
    "widgets": {
      "application/vnd.jupyter.widget-state+json": {
        "66a6606ea6f04722806f2c75fb07325e": {
          "model_module": "@jupyter-widgets/controls",
          "model_name": "HBoxModel",
          "model_module_version": "1.5.0",
          "state": {
            "_view_name": "HBoxView",
            "_dom_classes": [],
            "_model_name": "HBoxModel",
            "_view_module": "@jupyter-widgets/controls",
            "_model_module_version": "1.5.0",
            "_view_count": null,
            "_view_module_version": "1.5.0",
            "box_style": "",
            "layout": "IPY_MODEL_229b4ced5a444e55bffb0a39390670b1",
            "_model_module": "@jupyter-widgets/controls",
            "children": [
              "IPY_MODEL_5637497db7544e4e83e1eadfe21ced91",
              "IPY_MODEL_bdaae7d1871347729eb0706e4576fb33",
              "IPY_MODEL_62ecb9fa58b44c19873d2da6ff195167"
            ]
          }
        },
        "229b4ced5a444e55bffb0a39390670b1": {
          "model_module": "@jupyter-widgets/base",
          "model_name": "LayoutModel",
          "model_module_version": "1.2.0",
          "state": {
            "_view_name": "LayoutView",
            "grid_template_rows": null,
            "right": null,
            "justify_content": null,
            "_view_module": "@jupyter-widgets/base",
            "overflow": null,
            "_model_module_version": "1.2.0",
            "_view_count": null,
            "flex_flow": null,
            "width": null,
            "min_width": null,
            "border": null,
            "align_items": null,
            "bottom": null,
            "_model_module": "@jupyter-widgets/base",
            "top": null,
            "grid_column": null,
            "overflow_y": null,
            "overflow_x": null,
            "grid_auto_flow": null,
            "grid_area": null,
            "grid_template_columns": null,
            "flex": null,
            "_model_name": "LayoutModel",
            "justify_items": null,
            "grid_row": null,
            "max_height": null,
            "align_content": null,
            "visibility": null,
            "align_self": null,
            "height": null,
            "min_height": null,
            "padding": null,
            "grid_auto_rows": null,
            "grid_gap": null,
            "max_width": null,
            "order": null,
            "_view_module_version": "1.2.0",
            "grid_template_areas": null,
            "object_position": null,
            "object_fit": null,
            "grid_auto_columns": null,
            "margin": null,
            "display": null,
            "left": null
          }
        },
        "5637497db7544e4e83e1eadfe21ced91": {
          "model_module": "@jupyter-widgets/controls",
          "model_name": "HTMLModel",
          "model_module_version": "1.5.0",
          "state": {
            "_view_name": "HTMLView",
            "style": "IPY_MODEL_b614bb1ee0ec4026939ab5c101fccbbf",
            "_dom_classes": [],
            "description": "",
            "_model_name": "HTMLModel",
            "placeholder": "​",
            "_view_module": "@jupyter-widgets/controls",
            "_model_module_version": "1.5.0",
            "value": "Downloading: 100%",
            "_view_count": null,
            "_view_module_version": "1.5.0",
            "description_tooltip": null,
            "_model_module": "@jupyter-widgets/controls",
            "layout": "IPY_MODEL_19ac3c7d7a96425bbe9657166cc6f222"
          }
        },
        "bdaae7d1871347729eb0706e4576fb33": {
          "model_module": "@jupyter-widgets/controls",
          "model_name": "FloatProgressModel",
          "model_module_version": "1.5.0",
          "state": {
            "_view_name": "ProgressView",
            "style": "IPY_MODEL_b17d9ce756fa4889bafc457976a78448",
            "_dom_classes": [],
            "description": "",
            "_model_name": "FloatProgressModel",
            "bar_style": "success",
            "max": 481,
            "_view_module": "@jupyter-widgets/controls",
            "_model_module_version": "1.5.0",
            "value": 481,
            "_view_count": null,
            "_view_module_version": "1.5.0",
            "orientation": "horizontal",
            "min": 0,
            "description_tooltip": null,
            "_model_module": "@jupyter-widgets/controls",
            "layout": "IPY_MODEL_06741d3c691744ec8ed8a572c3e25fae"
          }
        },
        "62ecb9fa58b44c19873d2da6ff195167": {
          "model_module": "@jupyter-widgets/controls",
          "model_name": "HTMLModel",
          "model_module_version": "1.5.0",
          "state": {
            "_view_name": "HTMLView",
            "style": "IPY_MODEL_6d5f397e7fd24d1faf0469aa2f719670",
            "_dom_classes": [],
            "description": "",
            "_model_name": "HTMLModel",
            "placeholder": "​",
            "_view_module": "@jupyter-widgets/controls",
            "_model_module_version": "1.5.0",
            "value": " 481/481 [00:00&lt;00:00, 10.5kB/s]",
            "_view_count": null,
            "_view_module_version": "1.5.0",
            "description_tooltip": null,
            "_model_module": "@jupyter-widgets/controls",
            "layout": "IPY_MODEL_60f1067b042c419a94b24cdf896d3ea9"
          }
        },
        "b614bb1ee0ec4026939ab5c101fccbbf": {
          "model_module": "@jupyter-widgets/controls",
          "model_name": "DescriptionStyleModel",
          "model_module_version": "1.5.0",
          "state": {
            "_view_name": "StyleView",
            "_model_name": "DescriptionStyleModel",
            "description_width": "",
            "_view_module": "@jupyter-widgets/base",
            "_model_module_version": "1.5.0",
            "_view_count": null,
            "_view_module_version": "1.2.0",
            "_model_module": "@jupyter-widgets/controls"
          }
        },
        "19ac3c7d7a96425bbe9657166cc6f222": {
          "model_module": "@jupyter-widgets/base",
          "model_name": "LayoutModel",
          "model_module_version": "1.2.0",
          "state": {
            "_view_name": "LayoutView",
            "grid_template_rows": null,
            "right": null,
            "justify_content": null,
            "_view_module": "@jupyter-widgets/base",
            "overflow": null,
            "_model_module_version": "1.2.0",
            "_view_count": null,
            "flex_flow": null,
            "width": null,
            "min_width": null,
            "border": null,
            "align_items": null,
            "bottom": null,
            "_model_module": "@jupyter-widgets/base",
            "top": null,
            "grid_column": null,
            "overflow_y": null,
            "overflow_x": null,
            "grid_auto_flow": null,
            "grid_area": null,
            "grid_template_columns": null,
            "flex": null,
            "_model_name": "LayoutModel",
            "justify_items": null,
            "grid_row": null,
            "max_height": null,
            "align_content": null,
            "visibility": null,
            "align_self": null,
            "height": null,
            "min_height": null,
            "padding": null,
            "grid_auto_rows": null,
            "grid_gap": null,
            "max_width": null,
            "order": null,
            "_view_module_version": "1.2.0",
            "grid_template_areas": null,
            "object_position": null,
            "object_fit": null,
            "grid_auto_columns": null,
            "margin": null,
            "display": null,
            "left": null
          }
        },
        "b17d9ce756fa4889bafc457976a78448": {
          "model_module": "@jupyter-widgets/controls",
          "model_name": "ProgressStyleModel",
          "model_module_version": "1.5.0",
          "state": {
            "_view_name": "StyleView",
            "_model_name": "ProgressStyleModel",
            "description_width": "",
            "_view_module": "@jupyter-widgets/base",
            "_model_module_version": "1.5.0",
            "_view_count": null,
            "_view_module_version": "1.2.0",
            "bar_color": null,
            "_model_module": "@jupyter-widgets/controls"
          }
        },
        "06741d3c691744ec8ed8a572c3e25fae": {
          "model_module": "@jupyter-widgets/base",
          "model_name": "LayoutModel",
          "model_module_version": "1.2.0",
          "state": {
            "_view_name": "LayoutView",
            "grid_template_rows": null,
            "right": null,
            "justify_content": null,
            "_view_module": "@jupyter-widgets/base",
            "overflow": null,
            "_model_module_version": "1.2.0",
            "_view_count": null,
            "flex_flow": null,
            "width": null,
            "min_width": null,
            "border": null,
            "align_items": null,
            "bottom": null,
            "_model_module": "@jupyter-widgets/base",
            "top": null,
            "grid_column": null,
            "overflow_y": null,
            "overflow_x": null,
            "grid_auto_flow": null,
            "grid_area": null,
            "grid_template_columns": null,
            "flex": null,
            "_model_name": "LayoutModel",
            "justify_items": null,
            "grid_row": null,
            "max_height": null,
            "align_content": null,
            "visibility": null,
            "align_self": null,
            "height": null,
            "min_height": null,
            "padding": null,
            "grid_auto_rows": null,
            "grid_gap": null,
            "max_width": null,
            "order": null,
            "_view_module_version": "1.2.0",
            "grid_template_areas": null,
            "object_position": null,
            "object_fit": null,
            "grid_auto_columns": null,
            "margin": null,
            "display": null,
            "left": null
          }
        },
        "6d5f397e7fd24d1faf0469aa2f719670": {
          "model_module": "@jupyter-widgets/controls",
          "model_name": "DescriptionStyleModel",
          "model_module_version": "1.5.0",
          "state": {
            "_view_name": "StyleView",
            "_model_name": "DescriptionStyleModel",
            "description_width": "",
            "_view_module": "@jupyter-widgets/base",
            "_model_module_version": "1.5.0",
            "_view_count": null,
            "_view_module_version": "1.2.0",
            "_model_module": "@jupyter-widgets/controls"
          }
        },
        "60f1067b042c419a94b24cdf896d3ea9": {
          "model_module": "@jupyter-widgets/base",
          "model_name": "LayoutModel",
          "model_module_version": "1.2.0",
          "state": {
            "_view_name": "LayoutView",
            "grid_template_rows": null,
            "right": null,
            "justify_content": null,
            "_view_module": "@jupyter-widgets/base",
            "overflow": null,
            "_model_module_version": "1.2.0",
            "_view_count": null,
            "flex_flow": null,
            "width": null,
            "min_width": null,
            "border": null,
            "align_items": null,
            "bottom": null,
            "_model_module": "@jupyter-widgets/base",
            "top": null,
            "grid_column": null,
            "overflow_y": null,
            "overflow_x": null,
            "grid_auto_flow": null,
            "grid_area": null,
            "grid_template_columns": null,
            "flex": null,
            "_model_name": "LayoutModel",
            "justify_items": null,
            "grid_row": null,
            "max_height": null,
            "align_content": null,
            "visibility": null,
            "align_self": null,
            "height": null,
            "min_height": null,
            "padding": null,
            "grid_auto_rows": null,
            "grid_gap": null,
            "max_width": null,
            "order": null,
            "_view_module_version": "1.2.0",
            "grid_template_areas": null,
            "object_position": null,
            "object_fit": null,
            "grid_auto_columns": null,
            "margin": null,
            "display": null,
            "left": null
          }
        },
        "2c3721290a62416eba07a90433e42624": {
          "model_module": "@jupyter-widgets/controls",
          "model_name": "HBoxModel",
          "model_module_version": "1.5.0",
          "state": {
            "_view_name": "HBoxView",
            "_dom_classes": [],
            "_model_name": "HBoxModel",
            "_view_module": "@jupyter-widgets/controls",
            "_model_module_version": "1.5.0",
            "_view_count": null,
            "_view_module_version": "1.5.0",
            "box_style": "",
            "layout": "IPY_MODEL_ccdfdf4b9842435eaee6c65b6babc657",
            "_model_module": "@jupyter-widgets/controls",
            "children": [
              "IPY_MODEL_b52b8d43e372454cb9bbc4bd021833aa",
              "IPY_MODEL_9552150e144e4d54bd03a784fecc3a22",
              "IPY_MODEL_2fc0a9962c784d669d7c3c1689cc467f"
            ]
          }
        },
        "ccdfdf4b9842435eaee6c65b6babc657": {
          "model_module": "@jupyter-widgets/base",
          "model_name": "LayoutModel",
          "model_module_version": "1.2.0",
          "state": {
            "_view_name": "LayoutView",
            "grid_template_rows": null,
            "right": null,
            "justify_content": null,
            "_view_module": "@jupyter-widgets/base",
            "overflow": null,
            "_model_module_version": "1.2.0",
            "_view_count": null,
            "flex_flow": null,
            "width": null,
            "min_width": null,
            "border": null,
            "align_items": null,
            "bottom": null,
            "_model_module": "@jupyter-widgets/base",
            "top": null,
            "grid_column": null,
            "overflow_y": null,
            "overflow_x": null,
            "grid_auto_flow": null,
            "grid_area": null,
            "grid_template_columns": null,
            "flex": null,
            "_model_name": "LayoutModel",
            "justify_items": null,
            "grid_row": null,
            "max_height": null,
            "align_content": null,
            "visibility": null,
            "align_self": null,
            "height": null,
            "min_height": null,
            "padding": null,
            "grid_auto_rows": null,
            "grid_gap": null,
            "max_width": null,
            "order": null,
            "_view_module_version": "1.2.0",
            "grid_template_areas": null,
            "object_position": null,
            "object_fit": null,
            "grid_auto_columns": null,
            "margin": null,
            "display": null,
            "left": null
          }
        },
        "b52b8d43e372454cb9bbc4bd021833aa": {
          "model_module": "@jupyter-widgets/controls",
          "model_name": "HTMLModel",
          "model_module_version": "1.5.0",
          "state": {
            "_view_name": "HTMLView",
            "style": "IPY_MODEL_15581900fd254806b9cb7fb7d0f77643",
            "_dom_classes": [],
            "description": "",
            "_model_name": "HTMLModel",
            "placeholder": "​",
            "_view_module": "@jupyter-widgets/controls",
            "_model_module_version": "1.5.0",
            "value": "Downloading: 100%",
            "_view_count": null,
            "_view_module_version": "1.5.0",
            "description_tooltip": null,
            "_model_module": "@jupyter-widgets/controls",
            "layout": "IPY_MODEL_0d070118c0ee43f784eaf7411bc4f200"
          }
        },
        "9552150e144e4d54bd03a784fecc3a22": {
          "model_module": "@jupyter-widgets/controls",
          "model_name": "FloatProgressModel",
          "model_module_version": "1.5.0",
          "state": {
            "_view_name": "ProgressView",
            "style": "IPY_MODEL_7df1b7506f1948aca7b012fac64ec812",
            "_dom_classes": [],
            "description": "",
            "_model_name": "FloatProgressModel",
            "bar_style": "success",
            "max": 898823,
            "_view_module": "@jupyter-widgets/controls",
            "_model_module_version": "1.5.0",
            "value": 898823,
            "_view_count": null,
            "_view_module_version": "1.5.0",
            "orientation": "horizontal",
            "min": 0,
            "description_tooltip": null,
            "_model_module": "@jupyter-widgets/controls",
            "layout": "IPY_MODEL_89bd8aa8742e482fbf8b1b8e9889ca99"
          }
        },
        "2fc0a9962c784d669d7c3c1689cc467f": {
          "model_module": "@jupyter-widgets/controls",
          "model_name": "HTMLModel",
          "model_module_version": "1.5.0",
          "state": {
            "_view_name": "HTMLView",
            "style": "IPY_MODEL_19232ee393f74ab399b72e3836dfb117",
            "_dom_classes": [],
            "description": "",
            "_model_name": "HTMLModel",
            "placeholder": "​",
            "_view_module": "@jupyter-widgets/controls",
            "_model_module_version": "1.5.0",
            "value": " 899k/899k [00:00&lt;00:00, 1.18MB/s]",
            "_view_count": null,
            "_view_module_version": "1.5.0",
            "description_tooltip": null,
            "_model_module": "@jupyter-widgets/controls",
            "layout": "IPY_MODEL_19c63ce06c3d4d56a9bffe72bb97a790"
          }
        },
        "15581900fd254806b9cb7fb7d0f77643": {
          "model_module": "@jupyter-widgets/controls",
          "model_name": "DescriptionStyleModel",
          "model_module_version": "1.5.0",
          "state": {
            "_view_name": "StyleView",
            "_model_name": "DescriptionStyleModel",
            "description_width": "",
            "_view_module": "@jupyter-widgets/base",
            "_model_module_version": "1.5.0",
            "_view_count": null,
            "_view_module_version": "1.2.0",
            "_model_module": "@jupyter-widgets/controls"
          }
        },
        "0d070118c0ee43f784eaf7411bc4f200": {
          "model_module": "@jupyter-widgets/base",
          "model_name": "LayoutModel",
          "model_module_version": "1.2.0",
          "state": {
            "_view_name": "LayoutView",
            "grid_template_rows": null,
            "right": null,
            "justify_content": null,
            "_view_module": "@jupyter-widgets/base",
            "overflow": null,
            "_model_module_version": "1.2.0",
            "_view_count": null,
            "flex_flow": null,
            "width": null,
            "min_width": null,
            "border": null,
            "align_items": null,
            "bottom": null,
            "_model_module": "@jupyter-widgets/base",
            "top": null,
            "grid_column": null,
            "overflow_y": null,
            "overflow_x": null,
            "grid_auto_flow": null,
            "grid_area": null,
            "grid_template_columns": null,
            "flex": null,
            "_model_name": "LayoutModel",
            "justify_items": null,
            "grid_row": null,
            "max_height": null,
            "align_content": null,
            "visibility": null,
            "align_self": null,
            "height": null,
            "min_height": null,
            "padding": null,
            "grid_auto_rows": null,
            "grid_gap": null,
            "max_width": null,
            "order": null,
            "_view_module_version": "1.2.0",
            "grid_template_areas": null,
            "object_position": null,
            "object_fit": null,
            "grid_auto_columns": null,
            "margin": null,
            "display": null,
            "left": null
          }
        },
        "7df1b7506f1948aca7b012fac64ec812": {
          "model_module": "@jupyter-widgets/controls",
          "model_name": "ProgressStyleModel",
          "model_module_version": "1.5.0",
          "state": {
            "_view_name": "StyleView",
            "_model_name": "ProgressStyleModel",
            "description_width": "",
            "_view_module": "@jupyter-widgets/base",
            "_model_module_version": "1.5.0",
            "_view_count": null,
            "_view_module_version": "1.2.0",
            "bar_color": null,
            "_model_module": "@jupyter-widgets/controls"
          }
        },
        "89bd8aa8742e482fbf8b1b8e9889ca99": {
          "model_module": "@jupyter-widgets/base",
          "model_name": "LayoutModel",
          "model_module_version": "1.2.0",
          "state": {
            "_view_name": "LayoutView",
            "grid_template_rows": null,
            "right": null,
            "justify_content": null,
            "_view_module": "@jupyter-widgets/base",
            "overflow": null,
            "_model_module_version": "1.2.0",
            "_view_count": null,
            "flex_flow": null,
            "width": null,
            "min_width": null,
            "border": null,
            "align_items": null,
            "bottom": null,
            "_model_module": "@jupyter-widgets/base",
            "top": null,
            "grid_column": null,
            "overflow_y": null,
            "overflow_x": null,
            "grid_auto_flow": null,
            "grid_area": null,
            "grid_template_columns": null,
            "flex": null,
            "_model_name": "LayoutModel",
            "justify_items": null,
            "grid_row": null,
            "max_height": null,
            "align_content": null,
            "visibility": null,
            "align_self": null,
            "height": null,
            "min_height": null,
            "padding": null,
            "grid_auto_rows": null,
            "grid_gap": null,
            "max_width": null,
            "order": null,
            "_view_module_version": "1.2.0",
            "grid_template_areas": null,
            "object_position": null,
            "object_fit": null,
            "grid_auto_columns": null,
            "margin": null,
            "display": null,
            "left": null
          }
        },
        "19232ee393f74ab399b72e3836dfb117": {
          "model_module": "@jupyter-widgets/controls",
          "model_name": "DescriptionStyleModel",
          "model_module_version": "1.5.0",
          "state": {
            "_view_name": "StyleView",
            "_model_name": "DescriptionStyleModel",
            "description_width": "",
            "_view_module": "@jupyter-widgets/base",
            "_model_module_version": "1.5.0",
            "_view_count": null,
            "_view_module_version": "1.2.0",
            "_model_module": "@jupyter-widgets/controls"
          }
        },
        "19c63ce06c3d4d56a9bffe72bb97a790": {
          "model_module": "@jupyter-widgets/base",
          "model_name": "LayoutModel",
          "model_module_version": "1.2.0",
          "state": {
            "_view_name": "LayoutView",
            "grid_template_rows": null,
            "right": null,
            "justify_content": null,
            "_view_module": "@jupyter-widgets/base",
            "overflow": null,
            "_model_module_version": "1.2.0",
            "_view_count": null,
            "flex_flow": null,
            "width": null,
            "min_width": null,
            "border": null,
            "align_items": null,
            "bottom": null,
            "_model_module": "@jupyter-widgets/base",
            "top": null,
            "grid_column": null,
            "overflow_y": null,
            "overflow_x": null,
            "grid_auto_flow": null,
            "grid_area": null,
            "grid_template_columns": null,
            "flex": null,
            "_model_name": "LayoutModel",
            "justify_items": null,
            "grid_row": null,
            "max_height": null,
            "align_content": null,
            "visibility": null,
            "align_self": null,
            "height": null,
            "min_height": null,
            "padding": null,
            "grid_auto_rows": null,
            "grid_gap": null,
            "max_width": null,
            "order": null,
            "_view_module_version": "1.2.0",
            "grid_template_areas": null,
            "object_position": null,
            "object_fit": null,
            "grid_auto_columns": null,
            "margin": null,
            "display": null,
            "left": null
          }
        },
        "374c6fb79abe45ed85bca4626a43dfc9": {
          "model_module": "@jupyter-widgets/controls",
          "model_name": "HBoxModel",
          "model_module_version": "1.5.0",
          "state": {
            "_view_name": "HBoxView",
            "_dom_classes": [],
            "_model_name": "HBoxModel",
            "_view_module": "@jupyter-widgets/controls",
            "_model_module_version": "1.5.0",
            "_view_count": null,
            "_view_module_version": "1.5.0",
            "box_style": "",
            "layout": "IPY_MODEL_599be5e5fbd646c68fcfce54037c8075",
            "_model_module": "@jupyter-widgets/controls",
            "children": [
              "IPY_MODEL_844a33d445974b6e93ecf3a78dbcedb4",
              "IPY_MODEL_3a5be6cf5946468696028b54cbd1e198",
              "IPY_MODEL_fc52316989c541609e541743d33eac1b"
            ]
          }
        },
        "599be5e5fbd646c68fcfce54037c8075": {
          "model_module": "@jupyter-widgets/base",
          "model_name": "LayoutModel",
          "model_module_version": "1.2.0",
          "state": {
            "_view_name": "LayoutView",
            "grid_template_rows": null,
            "right": null,
            "justify_content": null,
            "_view_module": "@jupyter-widgets/base",
            "overflow": null,
            "_model_module_version": "1.2.0",
            "_view_count": null,
            "flex_flow": null,
            "width": null,
            "min_width": null,
            "border": null,
            "align_items": null,
            "bottom": null,
            "_model_module": "@jupyter-widgets/base",
            "top": null,
            "grid_column": null,
            "overflow_y": null,
            "overflow_x": null,
            "grid_auto_flow": null,
            "grid_area": null,
            "grid_template_columns": null,
            "flex": null,
            "_model_name": "LayoutModel",
            "justify_items": null,
            "grid_row": null,
            "max_height": null,
            "align_content": null,
            "visibility": null,
            "align_self": null,
            "height": null,
            "min_height": null,
            "padding": null,
            "grid_auto_rows": null,
            "grid_gap": null,
            "max_width": null,
            "order": null,
            "_view_module_version": "1.2.0",
            "grid_template_areas": null,
            "object_position": null,
            "object_fit": null,
            "grid_auto_columns": null,
            "margin": null,
            "display": null,
            "left": null
          }
        },
        "844a33d445974b6e93ecf3a78dbcedb4": {
          "model_module": "@jupyter-widgets/controls",
          "model_name": "HTMLModel",
          "model_module_version": "1.5.0",
          "state": {
            "_view_name": "HTMLView",
            "style": "IPY_MODEL_0a333a1bfb4c41ae82efe945f7ccf089",
            "_dom_classes": [],
            "description": "",
            "_model_name": "HTMLModel",
            "placeholder": "​",
            "_view_module": "@jupyter-widgets/controls",
            "_model_module_version": "1.5.0",
            "value": "Downloading: 100%",
            "_view_count": null,
            "_view_module_version": "1.5.0",
            "description_tooltip": null,
            "_model_module": "@jupyter-widgets/controls",
            "layout": "IPY_MODEL_18c19d40e5fc495e87f6283a7e02ff9a"
          }
        },
        "3a5be6cf5946468696028b54cbd1e198": {
          "model_module": "@jupyter-widgets/controls",
          "model_name": "FloatProgressModel",
          "model_module_version": "1.5.0",
          "state": {
            "_view_name": "ProgressView",
            "style": "IPY_MODEL_b4140defb108401eabdee51a5871de05",
            "_dom_classes": [],
            "description": "",
            "_model_name": "FloatProgressModel",
            "bar_style": "success",
            "max": 456318,
            "_view_module": "@jupyter-widgets/controls",
            "_model_module_version": "1.5.0",
            "value": 456318,
            "_view_count": null,
            "_view_module_version": "1.5.0",
            "orientation": "horizontal",
            "min": 0,
            "description_tooltip": null,
            "_model_module": "@jupyter-widgets/controls",
            "layout": "IPY_MODEL_14bf324de07a4e0dabf951637579aa8b"
          }
        },
        "fc52316989c541609e541743d33eac1b": {
          "model_module": "@jupyter-widgets/controls",
          "model_name": "HTMLModel",
          "model_module_version": "1.5.0",
          "state": {
            "_view_name": "HTMLView",
            "style": "IPY_MODEL_3f4673f1c6174a7d8d1d11733dd954d7",
            "_dom_classes": [],
            "description": "",
            "_model_name": "HTMLModel",
            "placeholder": "​",
            "_view_module": "@jupyter-widgets/controls",
            "_model_module_version": "1.5.0",
            "value": " 456k/456k [00:00&lt;00:00, 1.04MB/s]",
            "_view_count": null,
            "_view_module_version": "1.5.0",
            "description_tooltip": null,
            "_model_module": "@jupyter-widgets/controls",
            "layout": "IPY_MODEL_6af29e878ec942b0ab4c32351b544ffc"
          }
        },
        "0a333a1bfb4c41ae82efe945f7ccf089": {
          "model_module": "@jupyter-widgets/controls",
          "model_name": "DescriptionStyleModel",
          "model_module_version": "1.5.0",
          "state": {
            "_view_name": "StyleView",
            "_model_name": "DescriptionStyleModel",
            "description_width": "",
            "_view_module": "@jupyter-widgets/base",
            "_model_module_version": "1.5.0",
            "_view_count": null,
            "_view_module_version": "1.2.0",
            "_model_module": "@jupyter-widgets/controls"
          }
        },
        "18c19d40e5fc495e87f6283a7e02ff9a": {
          "model_module": "@jupyter-widgets/base",
          "model_name": "LayoutModel",
          "model_module_version": "1.2.0",
          "state": {
            "_view_name": "LayoutView",
            "grid_template_rows": null,
            "right": null,
            "justify_content": null,
            "_view_module": "@jupyter-widgets/base",
            "overflow": null,
            "_model_module_version": "1.2.0",
            "_view_count": null,
            "flex_flow": null,
            "width": null,
            "min_width": null,
            "border": null,
            "align_items": null,
            "bottom": null,
            "_model_module": "@jupyter-widgets/base",
            "top": null,
            "grid_column": null,
            "overflow_y": null,
            "overflow_x": null,
            "grid_auto_flow": null,
            "grid_area": null,
            "grid_template_columns": null,
            "flex": null,
            "_model_name": "LayoutModel",
            "justify_items": null,
            "grid_row": null,
            "max_height": null,
            "align_content": null,
            "visibility": null,
            "align_self": null,
            "height": null,
            "min_height": null,
            "padding": null,
            "grid_auto_rows": null,
            "grid_gap": null,
            "max_width": null,
            "order": null,
            "_view_module_version": "1.2.0",
            "grid_template_areas": null,
            "object_position": null,
            "object_fit": null,
            "grid_auto_columns": null,
            "margin": null,
            "display": null,
            "left": null
          }
        },
        "b4140defb108401eabdee51a5871de05": {
          "model_module": "@jupyter-widgets/controls",
          "model_name": "ProgressStyleModel",
          "model_module_version": "1.5.0",
          "state": {
            "_view_name": "StyleView",
            "_model_name": "ProgressStyleModel",
            "description_width": "",
            "_view_module": "@jupyter-widgets/base",
            "_model_module_version": "1.5.0",
            "_view_count": null,
            "_view_module_version": "1.2.0",
            "bar_color": null,
            "_model_module": "@jupyter-widgets/controls"
          }
        },
        "14bf324de07a4e0dabf951637579aa8b": {
          "model_module": "@jupyter-widgets/base",
          "model_name": "LayoutModel",
          "model_module_version": "1.2.0",
          "state": {
            "_view_name": "LayoutView",
            "grid_template_rows": null,
            "right": null,
            "justify_content": null,
            "_view_module": "@jupyter-widgets/base",
            "overflow": null,
            "_model_module_version": "1.2.0",
            "_view_count": null,
            "flex_flow": null,
            "width": null,
            "min_width": null,
            "border": null,
            "align_items": null,
            "bottom": null,
            "_model_module": "@jupyter-widgets/base",
            "top": null,
            "grid_column": null,
            "overflow_y": null,
            "overflow_x": null,
            "grid_auto_flow": null,
            "grid_area": null,
            "grid_template_columns": null,
            "flex": null,
            "_model_name": "LayoutModel",
            "justify_items": null,
            "grid_row": null,
            "max_height": null,
            "align_content": null,
            "visibility": null,
            "align_self": null,
            "height": null,
            "min_height": null,
            "padding": null,
            "grid_auto_rows": null,
            "grid_gap": null,
            "max_width": null,
            "order": null,
            "_view_module_version": "1.2.0",
            "grid_template_areas": null,
            "object_position": null,
            "object_fit": null,
            "grid_auto_columns": null,
            "margin": null,
            "display": null,
            "left": null
          }
        },
        "3f4673f1c6174a7d8d1d11733dd954d7": {
          "model_module": "@jupyter-widgets/controls",
          "model_name": "DescriptionStyleModel",
          "model_module_version": "1.5.0",
          "state": {
            "_view_name": "StyleView",
            "_model_name": "DescriptionStyleModel",
            "description_width": "",
            "_view_module": "@jupyter-widgets/base",
            "_model_module_version": "1.5.0",
            "_view_count": null,
            "_view_module_version": "1.2.0",
            "_model_module": "@jupyter-widgets/controls"
          }
        },
        "6af29e878ec942b0ab4c32351b544ffc": {
          "model_module": "@jupyter-widgets/base",
          "model_name": "LayoutModel",
          "model_module_version": "1.2.0",
          "state": {
            "_view_name": "LayoutView",
            "grid_template_rows": null,
            "right": null,
            "justify_content": null,
            "_view_module": "@jupyter-widgets/base",
            "overflow": null,
            "_model_module_version": "1.2.0",
            "_view_count": null,
            "flex_flow": null,
            "width": null,
            "min_width": null,
            "border": null,
            "align_items": null,
            "bottom": null,
            "_model_module": "@jupyter-widgets/base",
            "top": null,
            "grid_column": null,
            "overflow_y": null,
            "overflow_x": null,
            "grid_auto_flow": null,
            "grid_area": null,
            "grid_template_columns": null,
            "flex": null,
            "_model_name": "LayoutModel",
            "justify_items": null,
            "grid_row": null,
            "max_height": null,
            "align_content": null,
            "visibility": null,
            "align_self": null,
            "height": null,
            "min_height": null,
            "padding": null,
            "grid_auto_rows": null,
            "grid_gap": null,
            "max_width": null,
            "order": null,
            "_view_module_version": "1.2.0",
            "grid_template_areas": null,
            "object_position": null,
            "object_fit": null,
            "grid_auto_columns": null,
            "margin": null,
            "display": null,
            "left": null
          }
        },
        "b29294b180164bd0b02a3b4617da1bf3": {
          "model_module": "@jupyter-widgets/controls",
          "model_name": "HBoxModel",
          "model_module_version": "1.5.0",
          "state": {
            "_view_name": "HBoxView",
            "_dom_classes": [],
            "_model_name": "HBoxModel",
            "_view_module": "@jupyter-widgets/controls",
            "_model_module_version": "1.5.0",
            "_view_count": null,
            "_view_module_version": "1.5.0",
            "box_style": "",
            "layout": "IPY_MODEL_3f88cff9258640db930912c4c588f37b",
            "_model_module": "@jupyter-widgets/controls",
            "children": [
              "IPY_MODEL_8791874c105b4490a3fc6052bf3618c5",
              "IPY_MODEL_c15c8970caea4ec0b0d707e4053467a4",
              "IPY_MODEL_9f28e31cab7049c6a205354ca1189328"
            ]
          }
        },
        "3f88cff9258640db930912c4c588f37b": {
          "model_module": "@jupyter-widgets/base",
          "model_name": "LayoutModel",
          "model_module_version": "1.2.0",
          "state": {
            "_view_name": "LayoutView",
            "grid_template_rows": null,
            "right": null,
            "justify_content": null,
            "_view_module": "@jupyter-widgets/base",
            "overflow": null,
            "_model_module_version": "1.2.0",
            "_view_count": null,
            "flex_flow": null,
            "width": null,
            "min_width": null,
            "border": null,
            "align_items": null,
            "bottom": null,
            "_model_module": "@jupyter-widgets/base",
            "top": null,
            "grid_column": null,
            "overflow_y": null,
            "overflow_x": null,
            "grid_auto_flow": null,
            "grid_area": null,
            "grid_template_columns": null,
            "flex": null,
            "_model_name": "LayoutModel",
            "justify_items": null,
            "grid_row": null,
            "max_height": null,
            "align_content": null,
            "visibility": null,
            "align_self": null,
            "height": null,
            "min_height": null,
            "padding": null,
            "grid_auto_rows": null,
            "grid_gap": null,
            "max_width": null,
            "order": null,
            "_view_module_version": "1.2.0",
            "grid_template_areas": null,
            "object_position": null,
            "object_fit": null,
            "grid_auto_columns": null,
            "margin": null,
            "display": null,
            "left": null
          }
        },
        "8791874c105b4490a3fc6052bf3618c5": {
          "model_module": "@jupyter-widgets/controls",
          "model_name": "HTMLModel",
          "model_module_version": "1.5.0",
          "state": {
            "_view_name": "HTMLView",
            "style": "IPY_MODEL_c95e9ae1b8ba4d119f47d72886e301fb",
            "_dom_classes": [],
            "description": "",
            "_model_name": "HTMLModel",
            "placeholder": "​",
            "_view_module": "@jupyter-widgets/controls",
            "_model_module_version": "1.5.0",
            "value": "Downloading: 100%",
            "_view_count": null,
            "_view_module_version": "1.5.0",
            "description_tooltip": null,
            "_model_module": "@jupyter-widgets/controls",
            "layout": "IPY_MODEL_6f03f758ab87423a9bad21936696c5e8"
          }
        },
        "c15c8970caea4ec0b0d707e4053467a4": {
          "model_module": "@jupyter-widgets/controls",
          "model_name": "FloatProgressModel",
          "model_module_version": "1.5.0",
          "state": {
            "_view_name": "ProgressView",
            "style": "IPY_MODEL_531679cd090147aaa815d47e196c226e",
            "_dom_classes": [],
            "description": "",
            "_model_name": "FloatProgressModel",
            "bar_style": "success",
            "max": 1355863,
            "_view_module": "@jupyter-widgets/controls",
            "_model_module_version": "1.5.0",
            "value": 1355863,
            "_view_count": null,
            "_view_module_version": "1.5.0",
            "orientation": "horizontal",
            "min": 0,
            "description_tooltip": null,
            "_model_module": "@jupyter-widgets/controls",
            "layout": "IPY_MODEL_2119809d4ed24596aaedad022204d0ed"
          }
        },
        "9f28e31cab7049c6a205354ca1189328": {
          "model_module": "@jupyter-widgets/controls",
          "model_name": "HTMLModel",
          "model_module_version": "1.5.0",
          "state": {
            "_view_name": "HTMLView",
            "style": "IPY_MODEL_f81ffa62f9c94b8da0ebcdc58607afa1",
            "_dom_classes": [],
            "description": "",
            "_model_name": "HTMLModel",
            "placeholder": "​",
            "_view_module": "@jupyter-widgets/controls",
            "_model_module_version": "1.5.0",
            "value": " 1.36M/1.36M [00:00&lt;00:00, 4.36MB/s]",
            "_view_count": null,
            "_view_module_version": "1.5.0",
            "description_tooltip": null,
            "_model_module": "@jupyter-widgets/controls",
            "layout": "IPY_MODEL_2202cf739a1449568b7b27269d695e86"
          }
        },
        "c95e9ae1b8ba4d119f47d72886e301fb": {
          "model_module": "@jupyter-widgets/controls",
          "model_name": "DescriptionStyleModel",
          "model_module_version": "1.5.0",
          "state": {
            "_view_name": "StyleView",
            "_model_name": "DescriptionStyleModel",
            "description_width": "",
            "_view_module": "@jupyter-widgets/base",
            "_model_module_version": "1.5.0",
            "_view_count": null,
            "_view_module_version": "1.2.0",
            "_model_module": "@jupyter-widgets/controls"
          }
        },
        "6f03f758ab87423a9bad21936696c5e8": {
          "model_module": "@jupyter-widgets/base",
          "model_name": "LayoutModel",
          "model_module_version": "1.2.0",
          "state": {
            "_view_name": "LayoutView",
            "grid_template_rows": null,
            "right": null,
            "justify_content": null,
            "_view_module": "@jupyter-widgets/base",
            "overflow": null,
            "_model_module_version": "1.2.0",
            "_view_count": null,
            "flex_flow": null,
            "width": null,
            "min_width": null,
            "border": null,
            "align_items": null,
            "bottom": null,
            "_model_module": "@jupyter-widgets/base",
            "top": null,
            "grid_column": null,
            "overflow_y": null,
            "overflow_x": null,
            "grid_auto_flow": null,
            "grid_area": null,
            "grid_template_columns": null,
            "flex": null,
            "_model_name": "LayoutModel",
            "justify_items": null,
            "grid_row": null,
            "max_height": null,
            "align_content": null,
            "visibility": null,
            "align_self": null,
            "height": null,
            "min_height": null,
            "padding": null,
            "grid_auto_rows": null,
            "grid_gap": null,
            "max_width": null,
            "order": null,
            "_view_module_version": "1.2.0",
            "grid_template_areas": null,
            "object_position": null,
            "object_fit": null,
            "grid_auto_columns": null,
            "margin": null,
            "display": null,
            "left": null
          }
        },
        "531679cd090147aaa815d47e196c226e": {
          "model_module": "@jupyter-widgets/controls",
          "model_name": "ProgressStyleModel",
          "model_module_version": "1.5.0",
          "state": {
            "_view_name": "StyleView",
            "_model_name": "ProgressStyleModel",
            "description_width": "",
            "_view_module": "@jupyter-widgets/base",
            "_model_module_version": "1.5.0",
            "_view_count": null,
            "_view_module_version": "1.2.0",
            "bar_color": null,
            "_model_module": "@jupyter-widgets/controls"
          }
        },
        "2119809d4ed24596aaedad022204d0ed": {
          "model_module": "@jupyter-widgets/base",
          "model_name": "LayoutModel",
          "model_module_version": "1.2.0",
          "state": {
            "_view_name": "LayoutView",
            "grid_template_rows": null,
            "right": null,
            "justify_content": null,
            "_view_module": "@jupyter-widgets/base",
            "overflow": null,
            "_model_module_version": "1.2.0",
            "_view_count": null,
            "flex_flow": null,
            "width": null,
            "min_width": null,
            "border": null,
            "align_items": null,
            "bottom": null,
            "_model_module": "@jupyter-widgets/base",
            "top": null,
            "grid_column": null,
            "overflow_y": null,
            "overflow_x": null,
            "grid_auto_flow": null,
            "grid_area": null,
            "grid_template_columns": null,
            "flex": null,
            "_model_name": "LayoutModel",
            "justify_items": null,
            "grid_row": null,
            "max_height": null,
            "align_content": null,
            "visibility": null,
            "align_self": null,
            "height": null,
            "min_height": null,
            "padding": null,
            "grid_auto_rows": null,
            "grid_gap": null,
            "max_width": null,
            "order": null,
            "_view_module_version": "1.2.0",
            "grid_template_areas": null,
            "object_position": null,
            "object_fit": null,
            "grid_auto_columns": null,
            "margin": null,
            "display": null,
            "left": null
          }
        },
        "f81ffa62f9c94b8da0ebcdc58607afa1": {
          "model_module": "@jupyter-widgets/controls",
          "model_name": "DescriptionStyleModel",
          "model_module_version": "1.5.0",
          "state": {
            "_view_name": "StyleView",
            "_model_name": "DescriptionStyleModel",
            "description_width": "",
            "_view_module": "@jupyter-widgets/base",
            "_model_module_version": "1.5.0",
            "_view_count": null,
            "_view_module_version": "1.2.0",
            "_model_module": "@jupyter-widgets/controls"
          }
        },
        "2202cf739a1449568b7b27269d695e86": {
          "model_module": "@jupyter-widgets/base",
          "model_name": "LayoutModel",
          "model_module_version": "1.2.0",
          "state": {
            "_view_name": "LayoutView",
            "grid_template_rows": null,
            "right": null,
            "justify_content": null,
            "_view_module": "@jupyter-widgets/base",
            "overflow": null,
            "_model_module_version": "1.2.0",
            "_view_count": null,
            "flex_flow": null,
            "width": null,
            "min_width": null,
            "border": null,
            "align_items": null,
            "bottom": null,
            "_model_module": "@jupyter-widgets/base",
            "top": null,
            "grid_column": null,
            "overflow_y": null,
            "overflow_x": null,
            "grid_auto_flow": null,
            "grid_area": null,
            "grid_template_columns": null,
            "flex": null,
            "_model_name": "LayoutModel",
            "justify_items": null,
            "grid_row": null,
            "max_height": null,
            "align_content": null,
            "visibility": null,
            "align_self": null,
            "height": null,
            "min_height": null,
            "padding": null,
            "grid_auto_rows": null,
            "grid_gap": null,
            "max_width": null,
            "order": null,
            "_view_module_version": "1.2.0",
            "grid_template_areas": null,
            "object_position": null,
            "object_fit": null,
            "grid_auto_columns": null,
            "margin": null,
            "display": null,
            "left": null
          }
        },
        "c07c0051a47f405f9afed2f0a518dd8b": {
          "model_module": "@jupyter-widgets/controls",
          "model_name": "HBoxModel",
          "model_module_version": "1.5.0",
          "state": {
            "_view_name": "HBoxView",
            "_dom_classes": [],
            "_model_name": "HBoxModel",
            "_view_module": "@jupyter-widgets/controls",
            "_model_module_version": "1.5.0",
            "_view_count": null,
            "_view_module_version": "1.5.0",
            "box_style": "",
            "layout": "IPY_MODEL_9be7cef8f9304ad7a9c872aac301f7b8",
            "_model_module": "@jupyter-widgets/controls",
            "children": [
              "IPY_MODEL_c69c680d7c1d48d29af95e7010ffba5d",
              "IPY_MODEL_f7fd4614e44742a9a8fd757fcdd21ac7",
              "IPY_MODEL_d73ad220ee634a00bdb8b4784de9576a"
            ]
          }
        },
        "9be7cef8f9304ad7a9c872aac301f7b8": {
          "model_module": "@jupyter-widgets/base",
          "model_name": "LayoutModel",
          "model_module_version": "1.2.0",
          "state": {
            "_view_name": "LayoutView",
            "grid_template_rows": null,
            "right": null,
            "justify_content": null,
            "_view_module": "@jupyter-widgets/base",
            "overflow": null,
            "_model_module_version": "1.2.0",
            "_view_count": null,
            "flex_flow": null,
            "width": null,
            "min_width": null,
            "border": null,
            "align_items": null,
            "bottom": null,
            "_model_module": "@jupyter-widgets/base",
            "top": null,
            "grid_column": null,
            "overflow_y": null,
            "overflow_x": null,
            "grid_auto_flow": null,
            "grid_area": null,
            "grid_template_columns": null,
            "flex": null,
            "_model_name": "LayoutModel",
            "justify_items": null,
            "grid_row": null,
            "max_height": null,
            "align_content": null,
            "visibility": null,
            "align_self": null,
            "height": null,
            "min_height": null,
            "padding": null,
            "grid_auto_rows": null,
            "grid_gap": null,
            "max_width": null,
            "order": null,
            "_view_module_version": "1.2.0",
            "grid_template_areas": null,
            "object_position": null,
            "object_fit": null,
            "grid_auto_columns": null,
            "margin": null,
            "display": null,
            "left": null
          }
        },
        "c69c680d7c1d48d29af95e7010ffba5d": {
          "model_module": "@jupyter-widgets/controls",
          "model_name": "HTMLModel",
          "model_module_version": "1.5.0",
          "state": {
            "_view_name": "HTMLView",
            "style": "IPY_MODEL_f47e433e67ae46a8ab370b78db76b31f",
            "_dom_classes": [],
            "description": "",
            "_model_name": "HTMLModel",
            "placeholder": "​",
            "_view_module": "@jupyter-widgets/controls",
            "_model_module_version": "1.5.0",
            "value": "Downloading: 100%",
            "_view_count": null,
            "_view_module_version": "1.5.0",
            "description_tooltip": null,
            "_model_module": "@jupyter-widgets/controls",
            "layout": "IPY_MODEL_d5874af0b63c4f32bcf99b7f81b12104"
          }
        },
        "f7fd4614e44742a9a8fd757fcdd21ac7": {
          "model_module": "@jupyter-widgets/controls",
          "model_name": "FloatProgressModel",
          "model_module_version": "1.5.0",
          "state": {
            "_view_name": "ProgressView",
            "style": "IPY_MODEL_eeca68841184496ca92bbe4f93558c52",
            "_dom_classes": [],
            "description": "",
            "_model_name": "FloatProgressModel",
            "bar_style": "success",
            "max": 657434796,
            "_view_module": "@jupyter-widgets/controls",
            "_model_module_version": "1.5.0",
            "value": 657434796,
            "_view_count": null,
            "_view_module_version": "1.5.0",
            "orientation": "horizontal",
            "min": 0,
            "description_tooltip": null,
            "_model_module": "@jupyter-widgets/controls",
            "layout": "IPY_MODEL_20e368be88a74da588c387b5f5e9e6e4"
          }
        },
        "d73ad220ee634a00bdb8b4784de9576a": {
          "model_module": "@jupyter-widgets/controls",
          "model_name": "HTMLModel",
          "model_module_version": "1.5.0",
          "state": {
            "_view_name": "HTMLView",
            "style": "IPY_MODEL_deca0b9e3a9e4e729564c1d9f7cc4327",
            "_dom_classes": [],
            "description": "",
            "_model_name": "HTMLModel",
            "placeholder": "​",
            "_view_module": "@jupyter-widgets/controls",
            "_model_module_version": "1.5.0",
            "value": " 657M/657M [00:19&lt;00:00, 32.8MB/s]",
            "_view_count": null,
            "_view_module_version": "1.5.0",
            "description_tooltip": null,
            "_model_module": "@jupyter-widgets/controls",
            "layout": "IPY_MODEL_21b906dd172f439fbf6dc6936dc32136"
          }
        },
        "f47e433e67ae46a8ab370b78db76b31f": {
          "model_module": "@jupyter-widgets/controls",
          "model_name": "DescriptionStyleModel",
          "model_module_version": "1.5.0",
          "state": {
            "_view_name": "StyleView",
            "_model_name": "DescriptionStyleModel",
            "description_width": "",
            "_view_module": "@jupyter-widgets/base",
            "_model_module_version": "1.5.0",
            "_view_count": null,
            "_view_module_version": "1.2.0",
            "_model_module": "@jupyter-widgets/controls"
          }
        },
        "d5874af0b63c4f32bcf99b7f81b12104": {
          "model_module": "@jupyter-widgets/base",
          "model_name": "LayoutModel",
          "model_module_version": "1.2.0",
          "state": {
            "_view_name": "LayoutView",
            "grid_template_rows": null,
            "right": null,
            "justify_content": null,
            "_view_module": "@jupyter-widgets/base",
            "overflow": null,
            "_model_module_version": "1.2.0",
            "_view_count": null,
            "flex_flow": null,
            "width": null,
            "min_width": null,
            "border": null,
            "align_items": null,
            "bottom": null,
            "_model_module": "@jupyter-widgets/base",
            "top": null,
            "grid_column": null,
            "overflow_y": null,
            "overflow_x": null,
            "grid_auto_flow": null,
            "grid_area": null,
            "grid_template_columns": null,
            "flex": null,
            "_model_name": "LayoutModel",
            "justify_items": null,
            "grid_row": null,
            "max_height": null,
            "align_content": null,
            "visibility": null,
            "align_self": null,
            "height": null,
            "min_height": null,
            "padding": null,
            "grid_auto_rows": null,
            "grid_gap": null,
            "max_width": null,
            "order": null,
            "_view_module_version": "1.2.0",
            "grid_template_areas": null,
            "object_position": null,
            "object_fit": null,
            "grid_auto_columns": null,
            "margin": null,
            "display": null,
            "left": null
          }
        },
        "eeca68841184496ca92bbe4f93558c52": {
          "model_module": "@jupyter-widgets/controls",
          "model_name": "ProgressStyleModel",
          "model_module_version": "1.5.0",
          "state": {
            "_view_name": "StyleView",
            "_model_name": "ProgressStyleModel",
            "description_width": "",
            "_view_module": "@jupyter-widgets/base",
            "_model_module_version": "1.5.0",
            "_view_count": null,
            "_view_module_version": "1.2.0",
            "bar_color": null,
            "_model_module": "@jupyter-widgets/controls"
          }
        },
        "20e368be88a74da588c387b5f5e9e6e4": {
          "model_module": "@jupyter-widgets/base",
          "model_name": "LayoutModel",
          "model_module_version": "1.2.0",
          "state": {
            "_view_name": "LayoutView",
            "grid_template_rows": null,
            "right": null,
            "justify_content": null,
            "_view_module": "@jupyter-widgets/base",
            "overflow": null,
            "_model_module_version": "1.2.0",
            "_view_count": null,
            "flex_flow": null,
            "width": null,
            "min_width": null,
            "border": null,
            "align_items": null,
            "bottom": null,
            "_model_module": "@jupyter-widgets/base",
            "top": null,
            "grid_column": null,
            "overflow_y": null,
            "overflow_x": null,
            "grid_auto_flow": null,
            "grid_area": null,
            "grid_template_columns": null,
            "flex": null,
            "_model_name": "LayoutModel",
            "justify_items": null,
            "grid_row": null,
            "max_height": null,
            "align_content": null,
            "visibility": null,
            "align_self": null,
            "height": null,
            "min_height": null,
            "padding": null,
            "grid_auto_rows": null,
            "grid_gap": null,
            "max_width": null,
            "order": null,
            "_view_module_version": "1.2.0",
            "grid_template_areas": null,
            "object_position": null,
            "object_fit": null,
            "grid_auto_columns": null,
            "margin": null,
            "display": null,
            "left": null
          }
        },
        "deca0b9e3a9e4e729564c1d9f7cc4327": {
          "model_module": "@jupyter-widgets/controls",
          "model_name": "DescriptionStyleModel",
          "model_module_version": "1.5.0",
          "state": {
            "_view_name": "StyleView",
            "_model_name": "DescriptionStyleModel",
            "description_width": "",
            "_view_module": "@jupyter-widgets/base",
            "_model_module_version": "1.5.0",
            "_view_count": null,
            "_view_module_version": "1.2.0",
            "_model_module": "@jupyter-widgets/controls"
          }
        },
        "21b906dd172f439fbf6dc6936dc32136": {
          "model_module": "@jupyter-widgets/base",
          "model_name": "LayoutModel",
          "model_module_version": "1.2.0",
          "state": {
            "_view_name": "LayoutView",
            "grid_template_rows": null,
            "right": null,
            "justify_content": null,
            "_view_module": "@jupyter-widgets/base",
            "overflow": null,
            "_model_module_version": "1.2.0",
            "_view_count": null,
            "flex_flow": null,
            "width": null,
            "min_width": null,
            "border": null,
            "align_items": null,
            "bottom": null,
            "_model_module": "@jupyter-widgets/base",
            "top": null,
            "grid_column": null,
            "overflow_y": null,
            "overflow_x": null,
            "grid_auto_flow": null,
            "grid_area": null,
            "grid_template_columns": null,
            "flex": null,
            "_model_name": "LayoutModel",
            "justify_items": null,
            "grid_row": null,
            "max_height": null,
            "align_content": null,
            "visibility": null,
            "align_self": null,
            "height": null,
            "min_height": null,
            "padding": null,
            "grid_auto_rows": null,
            "grid_gap": null,
            "max_width": null,
            "order": null,
            "_view_module_version": "1.2.0",
            "grid_template_areas": null,
            "object_position": null,
            "object_fit": null,
            "grid_auto_columns": null,
            "margin": null,
            "display": null,
            "left": null
          }
        }
      }
    }
  },
  "cells": [
    {
      "cell_type": "markdown",
      "metadata": {
        "id": "azdvfm_2Pklt"
      },
      "source": [
        "#Fine-tuning RoBERTa for news category classification"
      ]
    },
    {
      "cell_type": "markdown",
      "metadata": {
        "id": "Xw7yNDEBPXwW"
      },
      "source": [
        "##Import and install dependencies"
      ]
    },
    {
      "cell_type": "markdown",
      "metadata": {
        "id": "vPz_CDp3f2k2"
      },
      "source": [
        "The dataset can be downloaded directly from Google Cloud Storage once the GCS path is retrieved from Kaggle. It is also possible to upload it manually on Colab."
      ]
    },
    {
      "cell_type": "code",
      "metadata": {
        "colab": {
          "base_uri": "https://localhost:8080/"
        },
        "id": "J63f4vJHfx7i",
        "outputId": "178af552-dedf-47ff-890d-3252fd19e7e6"
      },
      "source": [
        "#Download dataset from GCS. Path must be retrieved from Kaggle, it changes periodically\n",
        "!gsutil cp \"gs://kds-c40234de35222fb3227b18dbed8dc8353e8479b733fad8e0c259cc09/News_Category_Dataset_v2.json\" ."
      ],
      "execution_count": null,
      "outputs": [
        {
          "output_type": "stream",
          "name": "stdout",
          "text": [
            "Copying gs://kds-c40234de35222fb3227b18dbed8dc8353e8479b733fad8e0c259cc09/News_Category_Dataset_v2.json...\n",
            "- [1 files][ 80.0 MiB/ 80.0 MiB]                                                \n",
            "Operation completed over 1 objects/80.0 MiB.                                     \n"
          ]
        }
      ]
    },
    {
      "cell_type": "code",
      "metadata": {
        "colab": {
          "base_uri": "https://localhost:8080/"
        },
        "id": "N_uMvQdISv2H",
        "outputId": "8a44ea55-c234-4706-e83c-1e6eec6eabea"
      },
      "source": [
        "!pip install transformers\n",
        "import tensorflow as tf\n",
        "import numpy as np\n",
        "import sklearn\n",
        "from sklearn import metrics\n",
        "import transformers\n",
        "from transformers import AutoTokenizer, TFAutoModelForSequenceClassification\n",
        "import json\n",
        "import matplotlib.pyplot as plt\n",
        "import random\n",
        "import seaborn as sn\n"
      ],
      "execution_count": null,
      "outputs": [
        {
          "output_type": "stream",
          "name": "stdout",
          "text": [
            "Collecting transformers\n",
            "  Downloading transformers-4.10.0-py3-none-any.whl (2.8 MB)\n",
            "\u001b[K     |████████████████████████████████| 2.8 MB 5.2 MB/s \n",
            "\u001b[?25hRequirement already satisfied: requests in /usr/local/lib/python3.7/dist-packages (from transformers) (2.23.0)\n",
            "Requirement already satisfied: filelock in /usr/local/lib/python3.7/dist-packages (from transformers) (3.0.12)\n",
            "Requirement already satisfied: tqdm>=4.27 in /usr/local/lib/python3.7/dist-packages (from transformers) (4.62.0)\n",
            "Collecting huggingface-hub>=0.0.12\n",
            "  Downloading huggingface_hub-0.0.16-py3-none-any.whl (50 kB)\n",
            "\u001b[K     |████████████████████████████████| 50 kB 4.9 MB/s \n",
            "\u001b[?25hRequirement already satisfied: importlib-metadata in /usr/local/lib/python3.7/dist-packages (from transformers) (4.6.4)\n",
            "Collecting sacremoses\n",
            "  Downloading sacremoses-0.0.45-py3-none-any.whl (895 kB)\n",
            "\u001b[K     |████████████████████████████████| 895 kB 57.8 MB/s \n",
            "\u001b[?25hRequirement already satisfied: numpy>=1.17 in /usr/local/lib/python3.7/dist-packages (from transformers) (1.19.5)\n",
            "Collecting tokenizers<0.11,>=0.10.1\n",
            "  Downloading tokenizers-0.10.3-cp37-cp37m-manylinux_2_5_x86_64.manylinux1_x86_64.manylinux_2_12_x86_64.manylinux2010_x86_64.whl (3.3 MB)\n",
            "\u001b[K     |████████████████████████████████| 3.3 MB 58.5 MB/s \n",
            "\u001b[?25hCollecting pyyaml>=5.1\n",
            "  Downloading PyYAML-5.4.1-cp37-cp37m-manylinux1_x86_64.whl (636 kB)\n",
            "\u001b[K     |████████████████████████████████| 636 kB 39.7 MB/s \n",
            "\u001b[?25hRequirement already satisfied: regex!=2019.12.17 in /usr/local/lib/python3.7/dist-packages (from transformers) (2019.12.20)\n",
            "Requirement already satisfied: packaging in /usr/local/lib/python3.7/dist-packages (from transformers) (21.0)\n",
            "Requirement already satisfied: typing-extensions in /usr/local/lib/python3.7/dist-packages (from huggingface-hub>=0.0.12->transformers) (3.7.4.3)\n",
            "Requirement already satisfied: pyparsing>=2.0.2 in /usr/local/lib/python3.7/dist-packages (from packaging->transformers) (2.4.7)\n",
            "Requirement already satisfied: zipp>=0.5 in /usr/local/lib/python3.7/dist-packages (from importlib-metadata->transformers) (3.5.0)\n",
            "Requirement already satisfied: idna<3,>=2.5 in /usr/local/lib/python3.7/dist-packages (from requests->transformers) (2.10)\n",
            "Requirement already satisfied: chardet<4,>=3.0.2 in /usr/local/lib/python3.7/dist-packages (from requests->transformers) (3.0.4)\n",
            "Requirement already satisfied: certifi>=2017.4.17 in /usr/local/lib/python3.7/dist-packages (from requests->transformers) (2021.5.30)\n",
            "Requirement already satisfied: urllib3!=1.25.0,!=1.25.1,<1.26,>=1.21.1 in /usr/local/lib/python3.7/dist-packages (from requests->transformers) (1.24.3)\n",
            "Requirement already satisfied: six in /usr/local/lib/python3.7/dist-packages (from sacremoses->transformers) (1.15.0)\n",
            "Requirement already satisfied: joblib in /usr/local/lib/python3.7/dist-packages (from sacremoses->transformers) (1.0.1)\n",
            "Requirement already satisfied: click in /usr/local/lib/python3.7/dist-packages (from sacremoses->transformers) (7.1.2)\n",
            "Installing collected packages: tokenizers, sacremoses, pyyaml, huggingface-hub, transformers\n",
            "  Attempting uninstall: pyyaml\n",
            "    Found existing installation: PyYAML 3.13\n",
            "    Uninstalling PyYAML-3.13:\n",
            "      Successfully uninstalled PyYAML-3.13\n",
            "Successfully installed huggingface-hub-0.0.16 pyyaml-5.4.1 sacremoses-0.0.45 tokenizers-0.10.3 transformers-4.10.0\n"
          ]
        }
      ]
    },
    {
      "cell_type": "markdown",
      "metadata": {
        "id": "Qj60P5y3PeeF"
      },
      "source": [
        "##Initialize TPU Strategy"
      ]
    },
    {
      "cell_type": "code",
      "metadata": {
        "colab": {
          "base_uri": "https://localhost:8080/"
        },
        "id": "db-jptlmtuzG",
        "outputId": "6403f267-d5a8-4cf6-e2ee-859a09ef70e2"
      },
      "source": [
        "# detect and init the TPU\n",
        "tpu = tf.distribute.cluster_resolver.TPUClusterResolver()\n",
        "tf.config.experimental_connect_to_cluster(tpu)\n",
        "tf.tpu.experimental.initialize_tpu_system(tpu)\n",
        "tpu_strategy = tf.distribute.experimental.TPUStrategy(tpu)\n",
        "\n",
        "batch_size=32 * tpu_strategy.num_replicas_in_sync\n",
        "print('Batch size:', batch_size)\n",
        "AUTOTUNE = tf.data.experimental.AUTOTUNE\n"
      ],
      "execution_count": null,
      "outputs": [
        {
          "output_type": "stream",
          "name": "stderr",
          "text": [
            "INFO:absl:Entering into master device scope: /job:worker/replica:0/task:0/device:CPU:0\n"
          ]
        },
        {
          "output_type": "stream",
          "name": "stdout",
          "text": [
            "INFO:tensorflow:Clearing out eager caches\n"
          ]
        },
        {
          "output_type": "stream",
          "name": "stderr",
          "text": [
            "INFO:tensorflow:Clearing out eager caches\n"
          ]
        },
        {
          "output_type": "stream",
          "name": "stdout",
          "text": [
            "INFO:tensorflow:Initializing the TPU system: grpc://10.59.12.250:8470\n"
          ]
        },
        {
          "output_type": "stream",
          "name": "stderr",
          "text": [
            "INFO:tensorflow:Initializing the TPU system: grpc://10.59.12.250:8470\n"
          ]
        },
        {
          "output_type": "stream",
          "name": "stdout",
          "text": [
            "INFO:tensorflow:Finished initializing TPU system.\n"
          ]
        },
        {
          "output_type": "stream",
          "name": "stderr",
          "text": [
            "INFO:tensorflow:Finished initializing TPU system.\n",
            "WARNING:absl:`tf.distribute.experimental.TPUStrategy` is deprecated, please use  the non experimental symbol `tf.distribute.TPUStrategy` instead.\n"
          ]
        },
        {
          "output_type": "stream",
          "name": "stdout",
          "text": [
            "INFO:tensorflow:Found TPU system:\n"
          ]
        },
        {
          "output_type": "stream",
          "name": "stderr",
          "text": [
            "INFO:tensorflow:Found TPU system:\n"
          ]
        },
        {
          "output_type": "stream",
          "name": "stdout",
          "text": [
            "INFO:tensorflow:*** Num TPU Cores: 8\n"
          ]
        },
        {
          "output_type": "stream",
          "name": "stderr",
          "text": [
            "INFO:tensorflow:*** Num TPU Cores: 8\n"
          ]
        },
        {
          "output_type": "stream",
          "name": "stdout",
          "text": [
            "INFO:tensorflow:*** Num TPU Workers: 1\n"
          ]
        },
        {
          "output_type": "stream",
          "name": "stderr",
          "text": [
            "INFO:tensorflow:*** Num TPU Workers: 1\n"
          ]
        },
        {
          "output_type": "stream",
          "name": "stdout",
          "text": [
            "INFO:tensorflow:*** Num TPU Cores Per Worker: 8\n"
          ]
        },
        {
          "output_type": "stream",
          "name": "stderr",
          "text": [
            "INFO:tensorflow:*** Num TPU Cores Per Worker: 8\n"
          ]
        },
        {
          "output_type": "stream",
          "name": "stdout",
          "text": [
            "INFO:tensorflow:*** Available Device: _DeviceAttributes(/job:localhost/replica:0/task:0/device:CPU:0, CPU, 0, 0)\n"
          ]
        },
        {
          "output_type": "stream",
          "name": "stderr",
          "text": [
            "INFO:tensorflow:*** Available Device: _DeviceAttributes(/job:localhost/replica:0/task:0/device:CPU:0, CPU, 0, 0)\n"
          ]
        },
        {
          "output_type": "stream",
          "name": "stdout",
          "text": [
            "INFO:tensorflow:*** Available Device: _DeviceAttributes(/job:worker/replica:0/task:0/device:CPU:0, CPU, 0, 0)\n"
          ]
        },
        {
          "output_type": "stream",
          "name": "stderr",
          "text": [
            "INFO:tensorflow:*** Available Device: _DeviceAttributes(/job:worker/replica:0/task:0/device:CPU:0, CPU, 0, 0)\n"
          ]
        },
        {
          "output_type": "stream",
          "name": "stdout",
          "text": [
            "INFO:tensorflow:*** Available Device: _DeviceAttributes(/job:worker/replica:0/task:0/device:TPU:0, TPU, 0, 0)\n"
          ]
        },
        {
          "output_type": "stream",
          "name": "stderr",
          "text": [
            "INFO:tensorflow:*** Available Device: _DeviceAttributes(/job:worker/replica:0/task:0/device:TPU:0, TPU, 0, 0)\n"
          ]
        },
        {
          "output_type": "stream",
          "name": "stdout",
          "text": [
            "INFO:tensorflow:*** Available Device: _DeviceAttributes(/job:worker/replica:0/task:0/device:TPU:1, TPU, 0, 0)\n"
          ]
        },
        {
          "output_type": "stream",
          "name": "stderr",
          "text": [
            "INFO:tensorflow:*** Available Device: _DeviceAttributes(/job:worker/replica:0/task:0/device:TPU:1, TPU, 0, 0)\n"
          ]
        },
        {
          "output_type": "stream",
          "name": "stdout",
          "text": [
            "INFO:tensorflow:*** Available Device: _DeviceAttributes(/job:worker/replica:0/task:0/device:TPU:2, TPU, 0, 0)\n"
          ]
        },
        {
          "output_type": "stream",
          "name": "stderr",
          "text": [
            "INFO:tensorflow:*** Available Device: _DeviceAttributes(/job:worker/replica:0/task:0/device:TPU:2, TPU, 0, 0)\n"
          ]
        },
        {
          "output_type": "stream",
          "name": "stdout",
          "text": [
            "INFO:tensorflow:*** Available Device: _DeviceAttributes(/job:worker/replica:0/task:0/device:TPU:3, TPU, 0, 0)\n"
          ]
        },
        {
          "output_type": "stream",
          "name": "stderr",
          "text": [
            "INFO:tensorflow:*** Available Device: _DeviceAttributes(/job:worker/replica:0/task:0/device:TPU:3, TPU, 0, 0)\n"
          ]
        },
        {
          "output_type": "stream",
          "name": "stdout",
          "text": [
            "INFO:tensorflow:*** Available Device: _DeviceAttributes(/job:worker/replica:0/task:0/device:TPU:4, TPU, 0, 0)\n"
          ]
        },
        {
          "output_type": "stream",
          "name": "stderr",
          "text": [
            "INFO:tensorflow:*** Available Device: _DeviceAttributes(/job:worker/replica:0/task:0/device:TPU:4, TPU, 0, 0)\n"
          ]
        },
        {
          "output_type": "stream",
          "name": "stdout",
          "text": [
            "INFO:tensorflow:*** Available Device: _DeviceAttributes(/job:worker/replica:0/task:0/device:TPU:5, TPU, 0, 0)\n"
          ]
        },
        {
          "output_type": "stream",
          "name": "stderr",
          "text": [
            "INFO:tensorflow:*** Available Device: _DeviceAttributes(/job:worker/replica:0/task:0/device:TPU:5, TPU, 0, 0)\n"
          ]
        },
        {
          "output_type": "stream",
          "name": "stdout",
          "text": [
            "INFO:tensorflow:*** Available Device: _DeviceAttributes(/job:worker/replica:0/task:0/device:TPU:6, TPU, 0, 0)\n"
          ]
        },
        {
          "output_type": "stream",
          "name": "stderr",
          "text": [
            "INFO:tensorflow:*** Available Device: _DeviceAttributes(/job:worker/replica:0/task:0/device:TPU:6, TPU, 0, 0)\n"
          ]
        },
        {
          "output_type": "stream",
          "name": "stdout",
          "text": [
            "INFO:tensorflow:*** Available Device: _DeviceAttributes(/job:worker/replica:0/task:0/device:TPU:7, TPU, 0, 0)\n"
          ]
        },
        {
          "output_type": "stream",
          "name": "stderr",
          "text": [
            "INFO:tensorflow:*** Available Device: _DeviceAttributes(/job:worker/replica:0/task:0/device:TPU:7, TPU, 0, 0)\n"
          ]
        },
        {
          "output_type": "stream",
          "name": "stdout",
          "text": [
            "INFO:tensorflow:*** Available Device: _DeviceAttributes(/job:worker/replica:0/task:0/device:TPU_SYSTEM:0, TPU_SYSTEM, 0, 0)\n"
          ]
        },
        {
          "output_type": "stream",
          "name": "stderr",
          "text": [
            "INFO:tensorflow:*** Available Device: _DeviceAttributes(/job:worker/replica:0/task:0/device:TPU_SYSTEM:0, TPU_SYSTEM, 0, 0)\n"
          ]
        },
        {
          "output_type": "stream",
          "name": "stdout",
          "text": [
            "INFO:tensorflow:*** Available Device: _DeviceAttributes(/job:worker/replica:0/task:0/device:XLA_CPU:0, XLA_CPU, 0, 0)\n"
          ]
        },
        {
          "output_type": "stream",
          "name": "stderr",
          "text": [
            "INFO:tensorflow:*** Available Device: _DeviceAttributes(/job:worker/replica:0/task:0/device:XLA_CPU:0, XLA_CPU, 0, 0)\n"
          ]
        },
        {
          "output_type": "stream",
          "name": "stdout",
          "text": [
            "Batch size: 256\n"
          ]
        }
      ]
    },
    {
      "cell_type": "markdown",
      "metadata": {
        "id": "aKsOzNGwP16N"
      },
      "source": [
        "##Visualize and preprocess data"
      ]
    },
    {
      "cell_type": "markdown",
      "metadata": {
        "id": "w0e7HcqfQRmj"
      },
      "source": [
        "Let's load the data. We will combine the title and the description into a single string we will use as input for the model. "
      ]
    },
    {
      "cell_type": "code",
      "metadata": {
        "id": "Sn3XJEdaP-tc"
      },
      "source": [
        "data = [json.loads(line) for line in open('./News_Category_Dataset_v2.json', 'r')] #Load data from json file\n",
        "random.shuffle(data) #shuffle the data \n",
        "labels=[]\n",
        "headlines=[]\n",
        "texts=[]\n",
        "for line in data:\n",
        "    labels.append(line['category'])\n",
        "    headlines.append(line['headline'])\n",
        "    text=line['headline']+' '+line['short_description'] #Combine headline and description into a single text input\n",
        "    texts.append(text)\n"
      ],
      "execution_count": null,
      "outputs": []
    },
    {
      "cell_type": "markdown",
      "metadata": {
        "id": "eh2xAbq2QtXd"
      },
      "source": [
        "Let's explore the data"
      ]
    },
    {
      "cell_type": "code",
      "metadata": {
        "colab": {
          "base_uri": "https://localhost:8080/"
        },
        "id": "C2STQuMTQ4GE",
        "outputId": "bba3f38c-b923-448b-b737-47db565bcd45"
      },
      "source": [
        "n_elements=len(headlines)\n",
        "print('Elements in dataset:', n_elements)\n",
        "categories=sorted(list(set(labels))) #set will return the unique different entries\n",
        "n_categories=len(categories)\n",
        "print(\"{} categories found:\".format(n_categories))\n",
        "for category in categories:\n",
        "    print(category)"
      ],
      "execution_count": null,
      "outputs": [
        {
          "output_type": "stream",
          "name": "stdout",
          "text": [
            "Elements in dataset: 200853\n",
            "41 categories found:\n",
            "ARTS\n",
            "ARTS & CULTURE\n",
            "BLACK VOICES\n",
            "BUSINESS\n",
            "COLLEGE\n",
            "COMEDY\n",
            "CRIME\n",
            "CULTURE & ARTS\n",
            "DIVORCE\n",
            "EDUCATION\n",
            "ENTERTAINMENT\n",
            "ENVIRONMENT\n",
            "FIFTY\n",
            "FOOD & DRINK\n",
            "GOOD NEWS\n",
            "GREEN\n",
            "HEALTHY LIVING\n",
            "HOME & LIVING\n",
            "IMPACT\n",
            "LATINO VOICES\n",
            "MEDIA\n",
            "MONEY\n",
            "PARENTING\n",
            "PARENTS\n",
            "POLITICS\n",
            "QUEER VOICES\n",
            "RELIGION\n",
            "SCIENCE\n",
            "SPORTS\n",
            "STYLE\n",
            "STYLE & BEAUTY\n",
            "TASTE\n",
            "TECH\n",
            "THE WORLDPOST\n",
            "TRAVEL\n",
            "WEDDINGS\n",
            "WEIRD NEWS\n",
            "WELLNESS\n",
            "WOMEN\n",
            "WORLD NEWS\n",
            "WORLDPOST\n"
          ]
        }
      ]
    },
    {
      "cell_type": "markdown",
      "metadata": {
        "id": "srRjKzRCR2Jc"
      },
      "source": [
        "Let's visualize a histogram for the categories. "
      ]
    },
    {
      "cell_type": "code",
      "metadata": {
        "colab": {
          "base_uri": "https://localhost:8080/",
          "height": 559
        },
        "id": "FhrR1vsDSLid",
        "outputId": "b6dcafc8-37a9-42fd-dfcc-7631e0a23637"
      },
      "source": [
        "fig=plt.figure(figsize=(20,8))\n",
        "lbl, counts = np.unique(labels,return_counts=True)\n",
        "ticks = range(len(counts))\n",
        "plt.bar(ticks,counts, align='center')\n",
        "plt.xticks(ticks,lbl)\n",
        "plt.xticks(rotation=90)\n",
        "plt.ylabel('counts')\n",
        "plt.show()"
      ],
      "execution_count": null,
      "outputs": [
        {
          "output_type": "display_data",
          "data": {
            "image/png": "[encoded data removed]",
            "text/plain": [
              "<Figure size 1440x576 with 1 Axes>"
            ]
          },
          "metadata": {
            "needs_background": "light"
          }
        }
      ]
    },
    {
      "cell_type": "markdown",
      "metadata": {
        "id": "03uTTM9WTH2k"
      },
      "source": [
        "We see that we have a lot of categories with few entries. Furthermore some categories may have a significant overlapping in meaning. Since there is a significant number of categories to predict, I will aggregate the categories that refer to related concepts. This will make them easier to be distinguished by the classifier later."
      ]
    },
    {
      "cell_type": "code",
      "metadata": {
        "colab": {
          "base_uri": "https://localhost:8080/"
        },
        "id": "104c7BLuQsVV",
        "outputId": "1c8ce9d0-b025-4c8d-e7af-3e633f20e1c2"
      },
      "source": [
        "def aggregate_categories(labels):\n",
        "    aggregated=[]\n",
        "    for line in labels:\n",
        "        if line=='WORLDPOST' or line=='THE WORLDPOST':\n",
        "            aggregated.append('WORLD NEWS')\n",
        "        elif line=='PARENTING' or line=='PARENTS':\n",
        "            aggregated.append('PARENTS & PARENTING')\n",
        "        elif line=='ARTS' or line=='CULTURE & ARTS':\n",
        "            aggregated.append('ARTS & CULTURE')\n",
        "        elif line=='STYLE':\n",
        "            aggregated.append('STYLE & BEAUTY')\n",
        "        elif line=='GREEN' or line=='ENVIRONMENT':\n",
        "            aggregated.append('ENVIRONMENT & GREEN')\n",
        "        elif line=='HEALTHY LIVING' or line=='WELLNESS':\n",
        "            aggregated.append('WELLNESS & HEALTHY LIVING')\n",
        "        elif line=='COMEDY' or line=='ENTERTAINMENT':\n",
        "            aggregated.append('ENTERTAINMENT & COMEDY')\n",
        "        elif line=='TASTE' or line=='FOOD & DRINK':\n",
        "            aggregated.append('FOOD, DRINK & TASTE')\n",
        "        elif line=='COLLEGE' or line=='EDUCATION':\n",
        "             aggregated.append('COLLEGE & EDUCATION')\n",
        "        elif line=='SCIENCE' or line=='TECH':\n",
        "             aggregated.append('SCIENCE & TECH')\n",
        "        elif line=='BUSINESS' or line=='MONEY':\n",
        "            aggregated.append('BUSINESS & MONEY')\n",
        "\n",
        "        else:\n",
        "            aggregated.append(line)\n",
        "    return aggregated\n",
        "\n",
        "#count number of unique categories\n",
        "aggregated=aggregate_categories(labels)\n",
        "categories=sorted(list(set(aggregated)))\n",
        "n_categories=len(categories)\n",
        "print('There are {} aggregated categories:'.format(n_categories))\n",
        "for category in categories:\n",
        "    print(category)\n"
      ],
      "execution_count": null,
      "outputs": [
        {
          "output_type": "stream",
          "name": "stdout",
          "text": [
            "There are 28 aggregated categories:\n",
            "ARTS & CULTURE\n",
            "BLACK VOICES\n",
            "BUSINESS & MONEY\n",
            "COLLEGE & EDUCATION\n",
            "CRIME\n",
            "DIVORCE\n",
            "ENTERTAINMENT & COMEDY\n",
            "ENVIRONMENT & GREEN\n",
            "FIFTY\n",
            "FOOD, DRINK & TASTE\n",
            "GOOD NEWS\n",
            "HOME & LIVING\n",
            "IMPACT\n",
            "LATINO VOICES\n",
            "MEDIA\n",
            "PARENTS & PARENTING\n",
            "POLITICS\n",
            "QUEER VOICES\n",
            "RELIGION\n",
            "SCIENCE & TECH\n",
            "SPORTS\n",
            "STYLE & BEAUTY\n",
            "TRAVEL\n",
            "WEDDINGS\n",
            "WEIRD NEWS\n",
            "WELLNESS & HEALTHY LIVING\n",
            "WOMEN\n",
            "WORLD NEWS\n"
          ]
        }
      ]
    },
    {
      "cell_type": "markdown",
      "metadata": {
        "id": "175nnCblUWuD"
      },
      "source": [
        "Let's visualize the histogram with the aggregated categories.\n"
      ]
    },
    {
      "cell_type": "code",
      "metadata": {
        "colab": {
          "base_uri": "https://localhost:8080/",
          "height": 621
        },
        "id": "BNg7Gq_qUbX0",
        "outputId": "de858304-5fe3-42b2-d217-01832bf36c53"
      },
      "source": [
        "fig=plt.figure(figsize=(15,8))\n",
        "agg, counts = np.unique(aggregated,return_counts=True)\n",
        "ticks = range(len(counts))\n",
        "plt.bar(ticks,counts, align='center')\n",
        "plt.xticks(ticks,agg)\n",
        "plt.xticks(rotation=90)\n",
        "plt.ylabel('counts')\n",
        "plt.show()\n"
      ],
      "execution_count": null,
      "outputs": [
        {
          "output_type": "display_data",
          "data": {
            "image/png": "[encoded data removed]",
            "text/plain": [
              "<Figure size 1080x576 with 1 Axes>"
            ]
          },
          "metadata": {
            "needs_background": "light"
          }
        }
      ]
    },
    {
      "cell_type": "markdown",
      "metadata": {
        "id": "0f1dvfp0ZjC5"
      },
      "source": [
        "Let's now prepare the dataset to feed it to the model. We need to transform the category labels into indices and to tokenize the input text. The AutoTokenizer class of Huggingface allows to tokenize the dataset using the tokenizer used in the pretraining of the model. We will use the \"roberta-base\" model. "
      ]
    },
    {
      "cell_type": "code",
      "metadata": {
        "id": "Zo9PsgXyyl4r",
        "colab": {
          "base_uri": "https://localhost:8080/",
          "height": 145,
          "referenced_widgets": [
            "66a6606ea6f04722806f2c75fb07325e",
            "229b4ced5a444e55bffb0a39390670b1",
            "5637497db7544e4e83e1eadfe21ced91",
            "bdaae7d1871347729eb0706e4576fb33",
            "62ecb9fa58b44c19873d2da6ff195167",
            "b614bb1ee0ec4026939ab5c101fccbbf",
            "19ac3c7d7a96425bbe9657166cc6f222",
            "b17d9ce756fa4889bafc457976a78448",
            "06741d3c691744ec8ed8a572c3e25fae",
            "6d5f397e7fd24d1faf0469aa2f719670",
            "60f1067b042c419a94b24cdf896d3ea9",
            "2c3721290a62416eba07a90433e42624",
            "ccdfdf4b9842435eaee6c65b6babc657",
            "b52b8d43e372454cb9bbc4bd021833aa",
            "9552150e144e4d54bd03a784fecc3a22",
            "2fc0a9962c784d669d7c3c1689cc467f",
            "15581900fd254806b9cb7fb7d0f77643",
            "0d070118c0ee43f784eaf7411bc4f200",
            "7df1b7506f1948aca7b012fac64ec812",
            "89bd8aa8742e482fbf8b1b8e9889ca99",
            "19232ee393f74ab399b72e3836dfb117",
            "19c63ce06c3d4d56a9bffe72bb97a790",
            "374c6fb79abe45ed85bca4626a43dfc9",
            "599be5e5fbd646c68fcfce54037c8075",
            "844a33d445974b6e93ecf3a78dbcedb4",
            "3a5be6cf5946468696028b54cbd1e198",
            "fc52316989c541609e541743d33eac1b",
            "0a333a1bfb4c41ae82efe945f7ccf089",
            "18c19d40e5fc495e87f6283a7e02ff9a",
            "b4140defb108401eabdee51a5871de05",
            "14bf324de07a4e0dabf951637579aa8b",
            "3f4673f1c6174a7d8d1d11733dd954d7",
            "6af29e878ec942b0ab4c32351b544ffc",
            "b29294b180164bd0b02a3b4617da1bf3",
            "3f88cff9258640db930912c4c588f37b",
            "8791874c105b4490a3fc6052bf3618c5",
            "c15c8970caea4ec0b0d707e4053467a4",
            "9f28e31cab7049c6a205354ca1189328",
            "c95e9ae1b8ba4d119f47d72886e301fb",
            "6f03f758ab87423a9bad21936696c5e8",
            "531679cd090147aaa815d47e196c226e",
            "2119809d4ed24596aaedad022204d0ed",
            "f81ffa62f9c94b8da0ebcdc58607afa1",
            "2202cf739a1449568b7b27269d695e86"
          ]
        },
        "outputId": "10c3f5f1-d44a-49d1-d274-aa6207bc3596"
      },
      "source": [
        "def indicize_labels(labels):\n",
        "    \"\"\"Transforms string labels into indices\"\"\"\n",
        "    indices=[]\n",
        "    for j in range(len(labels)):\n",
        "        for i in range(n_categories):\n",
        "            if labels[j]==categories[i]:\n",
        "                indices.append(i)\n",
        "    return indices\n",
        "\n",
        "indices=indicize_labels(aggregated) #Integer label indices\n",
        "tokenizer = AutoTokenizer.from_pretrained(\"roberta-base\") #Tokenizer\n",
        "inputs = tokenizer(texts, padding=True, truncation=True, return_tensors='tf') #Tokenized text\n",
        "dataset=tf.data.Dataset.from_tensor_slices((dict(inputs), indices)) #Create a tensorflow dataset\n",
        "#train test split, we use 10% of the data for validation\n",
        "val_data_size=int(0.1*n_elements)\n",
        "val_ds=dataset.take(val_data_size).batch(batch_size, drop_remainder=True) \n",
        "train_ds=dataset.skip(val_data_size).batch(batch_size, drop_remainder=True)\n",
        "train_ds = train_ds.prefetch(buffer_size=AUTOTUNE)"
      ],
      "execution_count": null,
      "outputs": [
        {
          "output_type": "display_data",
          "data": {
            "application/vnd.jupyter.widget-view+json": {
              "model_id": "66a6606ea6f04722806f2c75fb07325e",
              "version_minor": 0,
              "version_major": 2
            },
            "text/plain": [
              "Downloading:   0%|          | 0.00/481 [00:00<?, ?B/s]"
            ]
          },
          "metadata": {}
        },
        {
          "output_type": "display_data",
          "data": {
            "application/vnd.jupyter.widget-view+json": {
              "model_id": "2c3721290a62416eba07a90433e42624",
              "version_minor": 0,
              "version_major": 2
            },
            "text/plain": [
              "Downloading:   0%|          | 0.00/899k [00:00<?, ?B/s]"
            ]
          },
          "metadata": {}
        },
        {
          "output_type": "display_data",
          "data": {
            "application/vnd.jupyter.widget-view+json": {
              "model_id": "374c6fb79abe45ed85bca4626a43dfc9",
              "version_minor": 0,
              "version_major": 2
            },
            "text/plain": [
              "Downloading:   0%|          | 0.00/456k [00:00<?, ?B/s]"
            ]
          },
          "metadata": {}
        },
        {
          "output_type": "display_data",
          "data": {
            "application/vnd.jupyter.widget-view+json": {
              "model_id": "b29294b180164bd0b02a3b4617da1bf3",
              "version_minor": 0,
              "version_major": 2
            },
            "text/plain": [
              "Downloading:   0%|          | 0.00/1.36M [00:00<?, ?B/s]"
            ]
          },
          "metadata": {}
        }
      ]
    },
    {
      "cell_type": "markdown",
      "metadata": {
        "id": "hL5phScz0Uwg"
      },
      "source": [
        "Let's visualize how the tokenizer splits the text into (sub)words and how text gets tokenized."
      ]
    },
    {
      "cell_type": "code",
      "metadata": {
        "colab": {
          "base_uri": "https://localhost:8080/"
        },
        "id": "Ed6NANm_z8z7",
        "outputId": "d9cf1373-3d19-411b-cca9-fed81011cdbb"
      },
      "source": [
        "tokens=tokenizer(headlines[0:3], padding=True, truncation=True)['input_ids']\n",
        "for i in range(3):\n",
        "  print('Input:',headlines[i])\n",
        "  print('Subword tokenization:',tokenizer.tokenize(headlines[i]))\n",
        "  print('Indices:', tokens[i])\n"
      ],
      "execution_count": null,
      "outputs": [
        {
          "output_type": "stream",
          "name": "stdout",
          "text": [
            "Input: Twitter Users Just Say No To Kellyanne Conway's Drug Abuse Cure\n",
            "Subword tokenization: ['Twitter', 'ĠUsers', 'ĠJust', 'ĠSay', 'ĠNo', 'ĠTo', 'ĠKell', 'yan', 'ne', 'ĠConway', \"'s\", 'ĠDrug', 'ĠAbuse', 'ĠCure']\n",
            "Indices: [0, 22838, 16034, 1801, 9867, 440, 598, 12702, 7010, 858, 13896, 18, 8006, 23827, 32641, 2, 1, 1, 1]\n",
            "Input: Target's Wedding Dresses Are Nicer Than You Might Think (VIDEO)\n",
            "Subword tokenization: ['Target', \"'s\", 'ĠWedding', 'ĠD', 'resses', 'ĠAre', 'ĠNic', 'er', 'ĠThan', 'ĠYou', 'ĠMight', 'ĠThink', 'Ġ(', 'VIDEO', ')']\n",
            "Indices: [0, 41858, 18, 21238, 211, 13937, 3945, 13608, 254, 15446, 370, 30532, 9387, 36, 36662, 43, 2, 1, 1]\n",
            "Input: Televisa Reinstates Fired Hosts, Is Investigating Sexual Harassment Claims\n",
            "Subword tokenization: ['Te', 'lev', 'isa', 'ĠRe', 'inst', 'ates', 'ĠFired', 'ĠHost', 's', ',', 'ĠIs', 'ĠInvestig', 'ating', 'ĠSexual', 'ĠHar', 'assment', 'ĠClaims']\n",
            "Indices: [0, 16215, 9525, 6619, 1223, 16063, 1626, 41969, 10664, 29, 6, 1534, 34850, 1295, 18600, 2482, 34145, 28128, 2]\n"
          ]
        }
      ]
    },
    {
      "cell_type": "markdown",
      "metadata": {
        "id": "3ELlWvTAkwAO"
      },
      "source": [
        "We see that the character 'Ġ' is used to indicate the start of a new word in the text, while the other parts of the words that get split don't contain it. For example 'reevaluate' gets split into 'Ġre' and 'evaluate'. We further notice that the tokenize uses the index 0 to indicate the beginning of the text and 2 to indicate the ending. Index 1 is reserved for padding. "
      ]
    },
    {
      "cell_type": "code",
      "metadata": {
        "colab": {
          "base_uri": "https://localhost:8080/",
          "height": 1000,
          "referenced_widgets": [
            "c07c0051a47f405f9afed2f0a518dd8b",
            "9be7cef8f9304ad7a9c872aac301f7b8",
            "c69c680d7c1d48d29af95e7010ffba5d",
            "f7fd4614e44742a9a8fd757fcdd21ac7",
            "d73ad220ee634a00bdb8b4784de9576a",
            "f47e433e67ae46a8ab370b78db76b31f",
            "d5874af0b63c4f32bcf99b7f81b12104",
            "eeca68841184496ca92bbe4f93558c52",
            "20e368be88a74da588c387b5f5e9e6e4",
            "deca0b9e3a9e4e729564c1d9f7cc4327",
            "21b906dd172f439fbf6dc6936dc32136"
          ]
        },
        "id": "8eTaKO7v9VSo",
        "outputId": "00eebf98-b067-4342-f76c-76b98c4023c2"
      },
      "source": [
        "with tpu_strategy.scope():\n",
        "    model = TFAutoModelForSequenceClassification.from_pretrained(\"roberta-base\", num_labels=n_categories)\n",
        "    model.compile(\n",
        "        optimizer=tf.keras.optimizers.Adam(learning_rate=1e-5, clipnorm=1.),\n",
        "        loss=tf.keras.losses.SparseCategoricalCrossentropy(from_logits=True),\n",
        "        metrics=[tf.metrics.SparseCategoricalAccuracy(),tf.keras.metrics.SparseTopKCategoricalAccuracy(k=3, name='Sparse_Top_3_Categorical_Accuracy')],\n",
        "        )\n",
        " \n",
        "history=model.fit(train_ds, validation_data=val_ds, epochs=6, verbose=1)\n",
        "\n",
        "model.save_weights('./saved_weights.h5')\n",
        "\n",
        "plt.plot(history.history['loss'])\n",
        "plt.plot(history.history['val_loss'])\n",
        "plt.ylabel('model loss')\n",
        "plt.xlabel('epoch')\n",
        "plt.legend(['train', 'test'], loc='best')\n",
        "plt.savefig('train_history.png')\n",
        "plt.show()"
      ],
      "execution_count": null,
      "outputs": [
        {
          "output_type": "display_data",
          "data": {
            "application/vnd.jupyter.widget-view+json": {
              "model_id": "c07c0051a47f405f9afed2f0a518dd8b",
              "version_minor": 0,
              "version_major": 2
            },
            "text/plain": [
              "Downloading:   0%|          | 0.00/657M [00:00<?, ?B/s]"
            ]
          },
          "metadata": {}
        },
        {
          "output_type": "stream",
          "name": "stderr",
          "text": [
            "All model checkpoint layers were used when initializing TFRobertaForSequenceClassification.\n",
            "\n",
            "Some layers of TFRobertaForSequenceClassification were not initialized from the model checkpoint at roberta-base and are newly initialized: ['classifier']\n",
            "You should probably TRAIN this model on a down-stream task to be able to use it for predictions and inference.\n"
          ]
        },
        {
          "output_type": "stream",
          "name": "stdout",
          "text": [
            "Epoch 1/6\n",
            "WARNING:tensorflow:The parameters `output_attentions`, `output_hidden_states` and `use_cache` cannot be updated when calling a model.They have to be set to True/False in the config object (i.e.: `config=XConfig.from_pretrained('name', output_attentions=True)`).\n",
            "WARNING:tensorflow:AutoGraph could not transform <bound method Socket.send of <zmq.Socket(zmq.PUSH) at 0x7f6c7b836f30>> and will run it as-is.\n",
            "Please report this to the TensorFlow team. When filing the bug, set the verbosity to 10 (on Linux, `export AUTOGRAPH_VERBOSITY=10`) and attach the full output.\n",
            "Cause: module, class, method, function, traceback, frame, or code object was expected, got cython_function_or_method\n",
            "To silence this warning, decorate the function with @tf.autograph.experimental.do_not_convert\n"
          ]
        },
        {
          "output_type": "stream",
          "name": "stderr",
          "text": [
            "WARNING:tensorflow:AutoGraph could not transform <bound method Socket.send of <zmq.Socket(zmq.PUSH) at 0x7f6c7b836f30>> and will run it as-is.\n",
            "Please report this to the TensorFlow team. When filing the bug, set the verbosity to 10 (on Linux, `export AUTOGRAPH_VERBOSITY=10`) and attach the full output.\n",
            "Cause: module, class, method, function, traceback, frame, or code object was expected, got cython_function_or_method\n",
            "To silence this warning, decorate the function with @tf.autograph.experimental.do_not_convert\n"
          ]
        },
        {
          "output_type": "stream",
          "name": "stdout",
          "text": [
            "WARNING: AutoGraph could not transform <bound method Socket.send of <zmq.Socket(zmq.PUSH) at 0x7f6c7b836f30>> and will run it as-is.\n",
            "Please report this to the TensorFlow team. When filing the bug, set the verbosity to 10 (on Linux, `export AUTOGRAPH_VERBOSITY=10`) and attach the full output.\n",
            "Cause: module, class, method, function, traceback, frame, or code object was expected, got cython_function_or_method\n",
            "To silence this warning, decorate the function with @tf.autograph.experimental.do_not_convert\n",
            "WARNING:tensorflow:AutoGraph could not transform <function wrap at 0x7f6c969eb950> and will run it as-is.\n",
            "Cause: while/else statement not yet supported\n",
            "To silence this warning, decorate the function with @tf.autograph.experimental.do_not_convert\n"
          ]
        },
        {
          "output_type": "stream",
          "name": "stderr",
          "text": [
            "WARNING:tensorflow:The parameters `output_attentions`, `output_hidden_states` and `use_cache` cannot be updated when calling a model.They have to be set to True/False in the config object (i.e.: `config=XConfig.from_pretrained('name', output_attentions=True)`).\n",
            "WARNING:tensorflow:AutoGraph could not transform <function wrap at 0x7f6c969eb950> and will run it as-is.\n",
            "Cause: while/else statement not yet supported\n",
            "To silence this warning, decorate the function with @tf.autograph.experimental.do_not_convert\n"
          ]
        },
        {
          "output_type": "stream",
          "name": "stdout",
          "text": [
            "WARNING:tensorflow:The parameter `return_dict` cannot be set in graph mode and will always be set to `True`.\n",
            "WARNING: AutoGraph could not transform <function wrap at 0x7f6c969eb950> and will run it as-is.\n",
            "Cause: while/else statement not yet supported\n",
            "To silence this warning, decorate the function with @tf.autograph.experimental.do_not_convert\n"
          ]
        },
        {
          "output_type": "stream",
          "name": "stderr",
          "text": [
            "WARNING:tensorflow:The parameter `return_dict` cannot be set in graph mode and will always be set to `True`.\n"
          ]
        },
        {
          "output_type": "stream",
          "name": "stdout",
          "text": [
            "WARNING:tensorflow:The parameters `output_attentions`, `output_hidden_states` and `use_cache` cannot be updated when calling a model.They have to be set to True/False in the config object (i.e.: `config=XConfig.from_pretrained('name', output_attentions=True)`).\n"
          ]
        },
        {
          "output_type": "stream",
          "name": "stderr",
          "text": [
            "WARNING:tensorflow:The parameters `output_attentions`, `output_hidden_states` and `use_cache` cannot be updated when calling a model.They have to be set to True/False in the config object (i.e.: `config=XConfig.from_pretrained('name', output_attentions=True)`).\n"
          ]
        },
        {
          "output_type": "stream",
          "name": "stdout",
          "text": [
            "WARNING:tensorflow:The parameter `return_dict` cannot be set in graph mode and will always be set to `True`.\n"
          ]
        },
        {
          "output_type": "stream",
          "name": "stderr",
          "text": [
            "WARNING:tensorflow:The parameter `return_dict` cannot be set in graph mode and will always be set to `True`.\n"
          ]
        },
        {
          "output_type": "stream",
          "name": "stdout",
          "text": [
            "706/706 [==============================] - ETA: 0s - loss: 1.3817 - sparse_categorical_accuracy: 0.6499 - Sparse_Top_3_Categorical_Accuracy: 0.8207WARNING:tensorflow:The parameters `output_attentions`, `output_hidden_states` and `use_cache` cannot be updated when calling a model.They have to be set to True/False in the config object (i.e.: `config=XConfig.from_pretrained('name', output_attentions=True)`).\n"
          ]
        },
        {
          "output_type": "stream",
          "name": "stderr",
          "text": [
            "WARNING:tensorflow:The parameters `output_attentions`, `output_hidden_states` and `use_cache` cannot be updated when calling a model.They have to be set to True/False in the config object (i.e.: `config=XConfig.from_pretrained('name', output_attentions=True)`).\n"
          ]
        },
        {
          "output_type": "stream",
          "name": "stdout",
          "text": [
            "WARNING:tensorflow:The parameter `return_dict` cannot be set in graph mode and will always be set to `True`.\n"
          ]
        },
        {
          "output_type": "stream",
          "name": "stderr",
          "text": [
            "WARNING:tensorflow:The parameter `return_dict` cannot be set in graph mode and will always be set to `True`.\n"
          ]
        },
        {
          "output_type": "stream",
          "name": "stdout",
          "text": [
            "\b\b\b\b\b\b\b\b\b\b\b\b\b\b\b\b\b\b\b\b\b\b\b\b\b\b\b\b\b\b\b\b\b\b\b\b\b\b\b\b\b\b\b\b\b\b\b\b\b\b\b\b\b\b\b\b\b\b\b\b\b\b\b\b\b\b\b\b\b\b\b\b\b\b\b\b\b\b\b\b\b\b\b\b\b\b\b\b\b\b\b\b\b\b\b\b\b\b\b\b\b\b\b\b\b\b\b\b\b\b\b\b\b\b\b\b\b\b\b\b\b\b\b\b\b\b\b\b\b\b\b\b\b\b\b\b\b\b\b\b\b\b\b\b\b\b\b\r706/706 [==============================] - 545s 574ms/step - loss: 1.3817 - sparse_categorical_accuracy: 0.6499 - Sparse_Top_3_Categorical_Accuracy: 0.8207 - val_loss: 0.9585 - val_sparse_categorical_accuracy: 0.7350 - val_Sparse_Top_3_Categorical_Accuracy: 0.9068\n",
            "Epoch 2/6\n",
            "706/706 [==============================] - 397s 562ms/step - loss: 0.8925 - sparse_categorical_accuracy: 0.7506 - Sparse_Top_3_Categorical_Accuracy: 0.9162 - val_loss: 0.8435 - val_sparse_categorical_accuracy: 0.7554 - val_Sparse_Top_3_Categorical_Accuracy: 0.9238\n",
            "Epoch 3/6\n",
            "706/706 [==============================] - 397s 562ms/step - loss: 0.7801 - sparse_categorical_accuracy: 0.7757 - Sparse_Top_3_Categorical_Accuracy: 0.9317 - val_loss: 0.8004 - val_sparse_categorical_accuracy: 0.7641 - val_Sparse_Top_3_Categorical_Accuracy: 0.9315\n",
            "Epoch 4/6\n",
            "706/706 [==============================] - 397s 562ms/step - loss: 0.7058 - sparse_categorical_accuracy: 0.7950 - Sparse_Top_3_Categorical_Accuracy: 0.9408 - val_loss: 0.7832 - val_sparse_categorical_accuracy: 0.7698 - val_Sparse_Top_3_Categorical_Accuracy: 0.9331\n",
            "Epoch 5/6\n",
            "706/706 [==============================] - 397s 563ms/step - loss: 0.6441 - sparse_categorical_accuracy: 0.8099 - Sparse_Top_3_Categorical_Accuracy: 0.9484 - val_loss: 0.7746 - val_sparse_categorical_accuracy: 0.7741 - val_Sparse_Top_3_Categorical_Accuracy: 0.9357\n",
            "Epoch 6/6\n",
            "706/706 [==============================] - 397s 563ms/step - loss: 0.5899 - sparse_categorical_accuracy: 0.8262 - Sparse_Top_3_Categorical_Accuracy: 0.9544 - val_loss: 0.7768 - val_sparse_categorical_accuracy: 0.7746 - val_Sparse_Top_3_Categorical_Accuracy: 0.9354\n"
          ]
        },
        {
          "output_type": "display_data",
          "data": {
            "image/png": "[encoded data removed]",
            "text/plain": [
              "<Figure size 432x288 with 1 Axes>"
            ]
          },
          "metadata": {
            "needs_background": "light"
          }
        }
      ]
    },
    {
      "cell_type": "code",
      "metadata": {
        "colab": {
          "base_uri": "https://localhost:8080/"
        },
        "id": "l2JO6u9dfawN",
        "outputId": "ce3b08cb-7d16-4e93-ac01-ccaa5ff1d6f8"
      },
      "source": [
        "trained_model = TFAutoModelForSequenceClassification.from_pretrained(\"roberta-base\", num_labels=n_categories)\n",
        "trained_model.load_weights('./saved_weights.h5')"
      ],
      "execution_count": null,
      "outputs": [
        {
          "output_type": "stream",
          "name": "stderr",
          "text": [
            "All model checkpoint layers were used when initializing TFRobertaForSequenceClassification.\n",
            "\n",
            "Some layers of TFRobertaForSequenceClassification were not initialized from the model checkpoint at roberta-base and are newly initialized: ['classifier']\n",
            "You should probably TRAIN this model on a down-stream task to be able to use it for predictions and inference.\n"
          ]
        }
      ]
    },
    {
      "cell_type": "code",
      "metadata": {
        "colab": {
          "base_uri": "https://localhost:8080/"
        },
        "id": "4R02eijcdjnO",
        "outputId": "6eb54f0b-c8da-4774-ef3d-4cbe8e95a819"
      },
      "source": [
        "labels=[]\n",
        "texts=[]\n",
        "headlines=[]\n",
        "descriptions=[]\n",
        "for i in range(val_data_size):\n",
        "    labels.append(data[i]['category'])\n",
        "    headline=data[i]['headline']\n",
        "    headlines.append(headline)\n",
        "    description=data[i]['short_description']\n",
        "    descriptions.append(description)\n",
        "    texts.append(headline+' '+description)\n",
        "labels=indicize_labels(aggregate_categories(labels))\n",
        "tokens=tokenizer(texts, padding=True,truncation=True, return_tensors='tf')\n",
        "logits=model.predict(dict(tokens), verbose=1).logits\n",
        "prob=tf.nn.softmax(logits, axis=1).numpy()\n",
        "predictions=np.argmax(prob, axis=1)\n",
        "confusion_matrix=tf.math.confusion_matrix(labels, predictions, num_classes=n_categories)"
      ],
      "execution_count": null,
      "outputs": [
        {
          "output_type": "stream",
          "name": "stdout",
          "text": [
            "628/628 [==============================] - 19s 29ms/step\n"
          ]
        }
      ]
    },
    {
      "cell_type": "markdown",
      "metadata": {
        "id": "YecMd7LzqmHU"
      },
      "source": [
        "Let's visualize the confusion matrix over the validation set. "
      ]
    },
    {
      "cell_type": "code",
      "metadata": {
        "id": "Ifrm8sPV-zY-",
        "colab": {
          "base_uri": "https://localhost:8080/",
          "height": 891
        },
        "outputId": "ca2031c9-ee30-4912-8906-bab2808f4e75"
      },
      "source": [
        "import seaborn as sn\n",
        "plt.figure(figsize=(15,13))\n",
        "sn.heatmap(confusion_matrix, annot=True, fmt='d', cmap='seismic', square=True, xticklabels=categories, yticklabels=categories) "
      ],
      "execution_count": null,
      "outputs": [
        {
          "output_type": "execute_result",
          "data": {
            "text/plain": [
              "<matplotlib.axes._subplots.AxesSubplot at 0x7f6b86d11850>"
            ]
          },
          "metadata": {},
          "execution_count": 14
        },
        {
          "output_type": "display_data",
          "data": {
            "image/png": "[encoded data removed]",
            "text/plain": [
              "<Figure size 1080x936 with 2 Axes>"
            ]
          },
          "metadata": {
            "needs_background": "light"
          }
        }
      ]
    },
    {
      "cell_type": "markdown",
      "metadata": {
        "id": "xLXOIQh5oCxO"
      },
      "source": [
        "Let's compute the (weighted) precision, recall and f1 metrics. "
      ]
    },
    {
      "cell_type": "code",
      "metadata": {
        "id": "QDUdO5s5pO3E",
        "colab": {
          "base_uri": "https://localhost:8080/"
        },
        "outputId": "037401ee-21d3-4f25-901e-1d84ee3c4a6d"
      },
      "source": [
        "precision=metrics.precision_score(labels, predictions, average='weighted')\n",
        "recall=metrics.recall_score(labels, predictions, average='weighted')\n",
        "f1=metrics.f1_score(labels, predictions, average='weighted')\n",
        "print('Precision:{}, Recall:{}, F1 score:{}.'.format(precision, recall, f1))"
      ],
      "execution_count": null,
      "outputs": [
        {
          "output_type": "stream",
          "name": "stdout",
          "text": [
            "Precision:0.7687848713937655, Recall:0.7746577047547921, F1 score:0.7690187397056872.\n"
          ]
        }
      ]
    },
    {
      "cell_type": "markdown",
      "metadata": {
        "id": "Y8EFjmkrvauE"
      },
      "source": [
        "Let's visualize some examples and respective top-3 predicted probabilities."
      ]
    },
    {
      "cell_type": "code",
      "metadata": {
        "colab": {
          "base_uri": "https://localhost:8080/"
        },
        "id": "QgRL-DyCmc8N",
        "outputId": "b101b6b8-ef98-444a-a0a7-c95dea44926b"
      },
      "source": [
        "def top_k_predictions(array, k): \n",
        "    top_k_indices=np.argsort(array)[-k:]\n",
        "    top_k_probabilities=[]\n",
        "    for i in range(k):\n",
        "        top_k_probabilities.append(np.around(array[top_k_indices[i]]*100, decimals=1))\n",
        "    return np.flip(top_k_indices), np.flip(top_k_probabilities)\n",
        "\n",
        "for i in range(0, 15):\n",
        "    print('HEADLINE:',headlines[i])\n",
        "    print('SHORT DESCRIPTION:', descriptions[i])\n",
        "    print('TRUE LABEL:', categories[labels[i]])\n",
        "    top_3, top_prob=top_k_predictions(prob[i],3)\n",
        "    print(\"Prediction 1:{} ({}%); Prediction 2:{} ({}%); Prediction 3:{} ({}%); \\n\".format(\n",
        "          categories[top_3[0]], top_prob[0],categories[top_3[1]], top_prob[1],categories[top_3[2]], top_prob[2]) )\n"
      ],
      "execution_count": null,
      "outputs": [
        {
          "output_type": "stream",
          "name": "stdout",
          "text": [
            "HEADLINE: Twitter Users Just Say No To Kellyanne Conway's Drug Abuse Cure\n",
            "SHORT DESCRIPTION: Her advice: \"Eat the ice cream, have the French fry, don’t buy the street drug.\"\n",
            "TRUE LABEL: POLITICS\n",
            "Prediction 1:POLITICS (31.6%); Prediction 2:WEIRD NEWS (19.7%); Prediction 3:ENTERTAINMENT & COMEDY (16.4%); \n",
            "\n",
            "HEADLINE: Target's Wedding Dresses Are Nicer Than You Might Think (VIDEO)\n",
            "SHORT DESCRIPTION: Host Lara Spencer sat down with Brides magazine editor Lauren Ianotti to compare designer wedding gowns from the likes of\n",
            "TRUE LABEL: WEDDINGS\n",
            "Prediction 1:WEDDINGS (99.1%); Prediction 2:STYLE & BEAUTY (0.3%); Prediction 3:DIVORCE (0.2%); \n",
            "\n",
            "HEADLINE: Televisa Reinstates Fired Hosts, Is Investigating Sexual Harassment Claims\n",
            "SHORT DESCRIPTION: ​Remezcla reports that Televisa has reinstated two hosts it fired earlier this week after claiming that a viral video of\n",
            "TRUE LABEL: LATINO VOICES\n",
            "Prediction 1:LATINO VOICES (38.3%); Prediction 2:MEDIA (32.2%); Prediction 3:WORLD NEWS (6.7%); \n",
            "\n",
            "HEADLINE: People Who Did Work On Their Wedding Day\n",
            "SHORT DESCRIPTION: Oh weddings. They are such a joyous occasion. The flowers, the guests, the dress, the music, the emails, etc., Wait what\n",
            "TRUE LABEL: WEDDINGS\n",
            "Prediction 1:WEDDINGS (98.1%); Prediction 2:DIVORCE (0.7%); Prediction 3:WELLNESS & HEALTHY LIVING (0.2%); \n",
            "\n",
            "HEADLINE: Is Your Messy Desk a Sign of a Cluttered Mind?\n",
            "SHORT DESCRIPTION: Are you cluttered or creative if your desk looks like an F5 tornado rumbled through? HR managers in the U.S. are split on their attitudes toward messy desks at the office.\n",
            "TRUE LABEL: BUSINESS & MONEY\n",
            "Prediction 1:BUSINESS & MONEY (93.7%); Prediction 2:WELLNESS & HEALTHY LIVING (2.2%); Prediction 3:SCIENCE & TECH (0.6%); \n",
            "\n",
            "HEADLINE: 6 Scientists Are About To Spend A Year On 'Mars'\n",
            "SHORT DESCRIPTION: It's not quite the red planet, but it's the next best thing.\n",
            "TRUE LABEL: SCIENCE & TECH\n",
            "Prediction 1:SCIENCE & TECH (97.7%); Prediction 2:WEIRD NEWS (0.4%); Prediction 3:WELLNESS & HEALTHY LIVING (0.3%); \n",
            "\n",
            "HEADLINE: Donald Trump’s September Fundraising Shows He's Not In Hillary Clinton’s League\n",
            "SHORT DESCRIPTION: He is also failing in his promise to self-fund $100 million.\n",
            "TRUE LABEL: POLITICS\n",
            "Prediction 1:POLITICS (98.9%); Prediction 2:ENTERTAINMENT & COMEDY (0.5%); Prediction 3:WOMEN (0.1%); \n",
            "\n",
            "HEADLINE: 'Star Wars' Expansion Coming To Disney Parks\n",
            "SHORT DESCRIPTION: \n",
            "TRUE LABEL: TRAVEL\n",
            "Prediction 1:ENTERTAINMENT & COMEDY (94.5%); Prediction 2:TRAVEL (3.0%); Prediction 3:BUSINESS & MONEY (0.4%); \n",
            "\n",
            "HEADLINE: Of Female Action Figures\n",
            "SHORT DESCRIPTION: Parts of the Internet erupted in a furor this holiday season when it transpired that a boxed set of action figures depicting characters from Star Wars: The Force Awakens omitted a figurine of Rey, the female lead of the film, the series' new hero.\n",
            "TRUE LABEL: RELIGION\n",
            "Prediction 1:ENTERTAINMENT & COMEDY (51.2%); Prediction 2:WOMEN (34.8%); Prediction 3:ARTS & CULTURE (4.2%); \n",
            "\n",
            "HEADLINE: Cut 'Em Loose\n",
            "SHORT DESCRIPTION: \n",
            "TRUE LABEL: POLITICS\n",
            "Prediction 1:ENTERTAINMENT & COMEDY (68.8%); Prediction 2:POLITICS (18.0%); Prediction 3:WELLNESS & HEALTHY LIVING (2.4%); \n",
            "\n",
            "HEADLINE: Democratic Candidate's KKK Hoods Plan Proves To Be Nothing\n",
            "SHORT DESCRIPTION: \n",
            "TRUE LABEL: POLITICS\n",
            "Prediction 1:POLITICS (97.5%); Prediction 2:BLACK VOICES (1.2%); Prediction 3:ENTERTAINMENT & COMEDY (0.5%); \n",
            "\n",
            "HEADLINE: Kasich's Campaign Is Less Dead Than Most Dead Campaigns\n",
            "SHORT DESCRIPTION: Voters usually don't vote for someone who can't win. But Kasich supporters have hit a new record.\n",
            "TRUE LABEL: POLITICS\n",
            "Prediction 1:POLITICS (99.6%); Prediction 2:ENTERTAINMENT & COMEDY (0.1%); Prediction 3:BUSINESS & MONEY (0.0%); \n",
            "\n",
            "HEADLINE: Homemade Gift Ideas: Tart-Cherry and Dark Chocolate Bar Wrappers\n",
            "SHORT DESCRIPTION: This DIY gift only LOOKS professional.\n",
            "TRUE LABEL: HOME & LIVING\n",
            "Prediction 1:HOME & LIVING (77.5%); Prediction 2:FOOD, DRINK & TASTE (19.8%); Prediction 3:STYLE & BEAUTY (0.7%); \n",
            "\n",
            "HEADLINE: Small Parties Claim Their Share In Upcoming Greek Elections\n",
            "SHORT DESCRIPTION: Some of the country's lesser-known political players believe they've spotted their chance.\n",
            "TRUE LABEL: WORLD NEWS\n",
            "Prediction 1:WORLD NEWS (99.2%); Prediction 2:POLITICS (0.4%); Prediction 3:ENVIRONMENT & GREEN (0.1%); \n",
            "\n",
            "HEADLINE: 46 Tons Of Beads Found In New Orleans' Storm Drains\n",
            "SHORT DESCRIPTION: The Big Easy is also the big messy.\n",
            "TRUE LABEL: WEIRD NEWS\n",
            "Prediction 1:WEIRD NEWS (55.0%); Prediction 2:ENVIRONMENT & GREEN (14.4%); Prediction 3:SCIENCE & TECH (10.0%); \n",
            "\n"
          ]
        }
      ]
    },
    {
      "cell_type": "markdown",
      "metadata": {
        "id": "xLVWEPr64VrU"
      },
      "source": [
        "Let's compare the performance of the model when we feed only the headlines without the short description."
      ]
    },
    {
      "cell_type": "code",
      "metadata": {
        "id": "0h2bVGaT4ROV",
        "colab": {
          "base_uri": "https://localhost:8080/"
        },
        "outputId": "5988c664-1e3c-4794-caaa-1f6e868fd01f"
      },
      "source": [
        "labels=[]\n",
        "texts=[]\n",
        "for i in range(val_data_size):\n",
        "    labels.append(data[i]['category'])\n",
        "    headline=data[i]['headline']\n",
        "    texts.append(headline)\n",
        "labels=indicize_labels(aggregate_categories(labels))\n",
        "labels=np.asarray(labels)\n",
        "tokens=tokenizer(texts, padding=True,truncation=True, return_tensors='tf')\n",
        "logits=model.predict(dict(tokens), verbose=1).logits\n",
        "prob=tf.nn.softmax(logits, axis=1).numpy()\n",
        "predictions=np.argmax(prob, axis=1)\n",
        "confusion_matrix=tf.math.confusion_matrix(labels, predictions, num_classes=n_categories)\n",
        "accuracy=metrics.accuracy_score(labels, predictions)\n",
        "print('Accuracy on headlines only:{}'.format(accuracy))"
      ],
      "execution_count": null,
      "outputs": [
        {
          "output_type": "stream",
          "name": "stderr",
          "text": [
            "INFO:absl:TPU has inputs with dynamic shapes: [<tf.Tensor 'Const:0' shape=() dtype=int32>, <tf.Tensor 'cond_8/Identity:0' shape=(None, 46) dtype=int32>, <tf.Tensor 'cond_8/Identity_1:0' shape=(None, 46) dtype=int32>]\n"
          ]
        },
        {
          "output_type": "stream",
          "name": "stdout",
          "text": [
            "WARNING:tensorflow:The parameters `output_attentions`, `output_hidden_states` and `use_cache` cannot be updated when calling a model.They have to be set to True/False in the config object (i.e.: `config=XConfig.from_pretrained('name', output_attentions=True)`).\n"
          ]
        },
        {
          "output_type": "stream",
          "name": "stderr",
          "text": [
            "WARNING:tensorflow:The parameters `output_attentions`, `output_hidden_states` and `use_cache` cannot be updated when calling a model.They have to be set to True/False in the config object (i.e.: `config=XConfig.from_pretrained('name', output_attentions=True)`).\n"
          ]
        },
        {
          "output_type": "stream",
          "name": "stdout",
          "text": [
            "WARNING:tensorflow:The parameter `return_dict` cannot be set in graph mode and will always be set to `True`.\n"
          ]
        },
        {
          "output_type": "stream",
          "name": "stderr",
          "text": [
            "WARNING:tensorflow:The parameter `return_dict` cannot be set in graph mode and will always be set to `True`.\n"
          ]
        },
        {
          "output_type": "stream",
          "name": "stdout",
          "text": [
            "628/628 [==============================] - 21s 26ms/step\n",
            "Accuracy on headlines only:0.7048045805327359\n"
          ]
        }
      ]
    },
    {
      "cell_type": "code",
      "metadata": {
        "id": "2W163u66OCp7",
        "colab": {
          "base_uri": "https://localhost:8080/",
          "height": 891
        },
        "outputId": "188e6944-b9ad-4a43-8ae4-f82bc899de1d"
      },
      "source": [
        "plt.figure(figsize=(15,13))\n",
        "sn.heatmap(confusion_matrix, annot=True, fmt='d', cmap='seismic', square=True, xticklabels=categories, yticklabels=categories) "
      ],
      "execution_count": null,
      "outputs": [
        {
          "output_type": "execute_result",
          "data": {
            "text/plain": [
              "<matplotlib.axes._subplots.AxesSubplot at 0x7f6b88397b50>"
            ]
          },
          "metadata": {},
          "execution_count": 18
        },
        {
          "output_type": "display_data",
          "data": {
            "image/png": "[encoded data removed]",
            "text/plain": [
              "<Figure size 1080x936 with 2 Axes>"
            ]
          },
          "metadata": {
            "needs_background": "light"
          }
        }
      ]
    },
    {
      "cell_type": "code",
      "metadata": {
        "colab": {
          "base_uri": "https://localhost:8080/"
        },
        "id": "RVJ_HTByooct",
        "outputId": "4402db3a-cf4e-427f-a113-fa3a3c038d6e"
      },
      "source": [
        "precision=metrics.precision_score(labels, predictions, average='weighted')\n",
        "recall=metrics.recall_score(labels, predictions, average='weighted')\n",
        "f1=metrics.f1_score(labels, predictions, average='weighted')\n",
        "print('Precision:{}, Recall:{}, F1 score:{}'.format(precision, recall, f1))"
      ],
      "execution_count": null,
      "outputs": [
        {
          "output_type": "stream",
          "name": "stdout",
          "text": [
            "Precision:0.7040217496479797, Recall:0.7048045805327359, F1 score:0.6999277748192079\n"
          ]
        }
      ]
    }
  ]
}